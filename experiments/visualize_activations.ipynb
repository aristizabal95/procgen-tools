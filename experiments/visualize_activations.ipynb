{
 "cells": [
  {
   "cell_type": "code",
   "execution_count": null,
   "metadata": {},
   "outputs": [
    {
     "ename": "",
     "evalue": "",
     "output_type": "error",
     "traceback": [
      "\u001b[1;31mRunning cells with 'procgen (Python 3.7.16)' requires the ipykernel package.\n",
      "\u001b[1;31mRun the following command to install 'ipykernel' into the Python environment. \n",
      "\u001b[1;31mCommand: 'conda install -n procgen ipykernel --update-deps --force-reinstall'"
     ]
    }
   ],
   "source": [
    "try:\n",
    "    import procgen_tools\n",
    "except ImportError:\n",
    "    get_ipython().run_line_magic(magic_name='pip', line='install -U git+https://github.com/ulissemini/procgen-tools')\n",
    "\n",
    "from procgen_tools.utils import setup\n",
    "\n",
    "setup() # create directory structure and download data "
   ]
  },
  {
   "cell_type": "code",
   "execution_count": 2,
   "metadata": {},
   "outputs": [],
   "source": [
    "from procgen_tools.imports import *\n",
    "from procgen_tools.procgen_imports import *\n",
    "from procgen_tools import visualization"
   ]
  },
  {
   "attachments": {},
   "cell_type": "markdown",
   "metadata": {},
   "source": [
    "# Visualizing details of the goal misgeneralization nets\n",
    "Let's understand lots of details about [the goal misgeneralization paper](https://arxiv.org/abs/2105.14111). In particular, we'll be looking at the cheese-maze task from the goal misgeneralization task, for which cheese was spawned in the 5x5 top-right corner of the maze. \n",
    "\n",
    "Key conclusions:\n",
    "1. Convolutional layers limit speed of information propagation (_locality_). More precisely, ignoring the effect of `maxpool2D` layers, any portions of the state separated by `n` pixels take at least `ceil(n/2)` convolutional layers to interact.\n",
    "2. In the maximal maze size of 64 x 64, there is at most **two** steps of computation involving information from e.g. opposite corners of the maze. "
   ]
  },
  {
   "attachments": {},
   "cell_type": "markdown",
   "metadata": {},
   "source": [
    "Let's visualize the network structure. Here's a Mermaid diagram. \n",
    "\n",
    "![](https://i.imgur.com/5oSHoVQ.png) "
   ]
  },
  {
   "attachments": {},
   "cell_type": "markdown",
   "metadata": {},
   "source": [
    "And here's a more dynamic view; small nodes are activations, and large nodes are `nn.Module`s."
   ]
  },
  {
   "cell_type": "code",
   "execution_count": 3,
   "metadata": {},
   "outputs": [
    {
     "data": {},
     "metadata": {},
     "output_type": "display_data"
    },
    {
     "data": {
      "application/vnd.holoviews_exec.v0+json": "",
      "text/html": [
       "<div id='1003'>\n",
       "  <div class=\"bk-root\" id=\"7b25a1c2-ec81-405e-82c0-d6181a8818d7\" data-root-id=\"1003\"></div>\n",
       "</div>\n",
       "<script type=\"application/javascript\">(function(root) {\n",
       "  function embed_document(root) {\n",
       "    var docs_json = {\"1b4554ef-1ddc-4fb2-90ec-af103712d237\":{\"defs\":[{\"extends\":null,\"module\":null,\"name\":\"ReactiveHTML1\",\"overrides\":[],\"properties\":[]},{\"extends\":null,\"module\":null,\"name\":\"FlexBox1\",\"overrides\":[],\"properties\":[{\"default\":\"flex-start\",\"kind\":null,\"name\":\"align_content\"},{\"default\":\"flex-start\",\"kind\":null,\"name\":\"align_items\"},{\"default\":\"row\",\"kind\":null,\"name\":\"flex_direction\"},{\"default\":\"wrap\",\"kind\":null,\"name\":\"flex_wrap\"},{\"default\":\"flex-start\",\"kind\":null,\"name\":\"justify_content\"}]},{\"extends\":null,\"module\":null,\"name\":\"GridStack1\",\"overrides\":[],\"properties\":[{\"default\":\"warn\",\"kind\":null,\"name\":\"mode\"},{\"default\":null,\"kind\":null,\"name\":\"ncols\"},{\"default\":null,\"kind\":null,\"name\":\"nrows\"},{\"default\":true,\"kind\":null,\"name\":\"allow_resize\"},{\"default\":true,\"kind\":null,\"name\":\"allow_drag\"},{\"default\":[],\"kind\":null,\"name\":\"state\"}]},{\"extends\":null,\"module\":null,\"name\":\"click1\",\"overrides\":[],\"properties\":[{\"default\":\"\",\"kind\":null,\"name\":\"terminal_output\"},{\"default\":\"\",\"kind\":null,\"name\":\"debug_name\"},{\"default\":0,\"kind\":null,\"name\":\"clears\"}]},{\"extends\":null,\"module\":null,\"name\":\"NotificationAreaBase1\",\"overrides\":[],\"properties\":[{\"default\":\"bottom-right\",\"kind\":null,\"name\":\"position\"},{\"default\":0,\"kind\":null,\"name\":\"_clear\"}]},{\"extends\":null,\"module\":null,\"name\":\"NotificationArea1\",\"overrides\":[],\"properties\":[{\"default\":[],\"kind\":null,\"name\":\"notifications\"},{\"default\":\"bottom-right\",\"kind\":null,\"name\":\"position\"},{\"default\":0,\"kind\":null,\"name\":\"_clear\"},{\"default\":[{\"background\":\"#ffc107\",\"icon\":{\"className\":\"fas fa-exclamation-triangle\",\"color\":\"white\",\"tagName\":\"i\"},\"type\":\"warning\"},{\"background\":\"#007bff\",\"icon\":{\"className\":\"fas fa-info-circle\",\"color\":\"white\",\"tagName\":\"i\"},\"type\":\"info\"}],\"kind\":null,\"name\":\"types\"}]},{\"extends\":null,\"module\":null,\"name\":\"Notification\",\"overrides\":[],\"properties\":[{\"default\":null,\"kind\":null,\"name\":\"background\"},{\"default\":3000,\"kind\":null,\"name\":\"duration\"},{\"default\":null,\"kind\":null,\"name\":\"icon\"},{\"default\":\"\",\"kind\":null,\"name\":\"message\"},{\"default\":null,\"kind\":null,\"name\":\"notification_type\"},{\"default\":false,\"kind\":null,\"name\":\"_destroyed\"}]},{\"extends\":null,\"module\":null,\"name\":\"TemplateActions1\",\"overrides\":[],\"properties\":[{\"default\":0,\"kind\":null,\"name\":\"open_modal\"},{\"default\":0,\"kind\":null,\"name\":\"close_modal\"}]},{\"extends\":null,\"module\":null,\"name\":\"MaterialTemplateActions1\",\"overrides\":[],\"properties\":[{\"default\":0,\"kind\":null,\"name\":\"open_modal\"},{\"default\":0,\"kind\":null,\"name\":\"close_modal\"}]}],\"roots\":{\"references\":[{\"attributes\":{\"axis\":{\"id\":\"1020\"},\"coordinates\":null,\"dimension\":1,\"grid_line_color\":null,\"group\":null,\"ticker\":null},\"id\":\"1023\",\"type\":\"Grid\"},{\"attributes\":{},\"id\":\"1021\",\"type\":\"BasicTicker\"},{\"attributes\":{\"coordinates\":null,\"data_source\":{\"id\":\"1041\"},\"glyph\":{\"id\":\"1049\"},\"group\":null,\"hover_glyph\":{\"id\":\"1051\"},\"muted_glyph\":{\"id\":\"1052\"},\"nonselection_glyph\":{\"id\":\"1050\"},\"view\":{\"id\":\"1054\"}},\"id\":\"1053\",\"type\":\"GlyphRenderer\"},{\"attributes\":{},\"id\":\"1069\",\"type\":\"BasicTickFormatter\"},{\"attributes\":{},\"id\":\"1073\",\"type\":\"AllLabels\"},{\"attributes\":{},\"id\":\"1066\",\"type\":\"NodesAndLinkedEdges\"},{\"attributes\":{},\"id\":\"1070\",\"type\":\"AllLabels\"},{\"attributes\":{\"data\":{\"desc\":[\"Conv2d(128, 128, kernel_size=(3, 3), stride=(1, 1), padding=(1, 1))\",\"ReLU()\",\"ReLU()\",\"ReLU()\",\"Conv2d(64, 64, kernel_size=(3, 3), stride=(1, 1), padding=(1, 1))\",\"ReLU()\",\"MaxPool2d(kernel_size=3, stride=2, padding=1, dilation=1, ceil_mode=False)\",\"ResidualAdd()\",\"ResidualAdd()\",\"ReLU()\",\"Conv2d(64, 64, kernel_size=(3, 3), stride=(1, 1), padding=(1, 1))\",\"Conv2d(128, 128, kernel_size=(3, 3), stride=(1, 1), padding=(1, 1))\",\"MaxPool2d(kernel_size=3, stride=2, padding=1, dilation=1, ceil_mode=False)\",\"ResidualAdd()\",\"ResidualAdd()\",\"Linear(in_features=256, out_features=1, bias=True)\",\"Conv2d(128, 128, kernel_size=(3, 3), stride=(1, 1), padding=(1, 1))\",\"ReLU()\",\"ResidualAdd()\",\"Conv2d(3, 64, kernel_size=(3, 3), stride=(1, 1), padding=(1, 1))\",\"Conv2d(128, 128, kernel_size=(3, 3), stride=(1, 1), padding=(1, 1))\",\"Linear(in_features=8192, out_features=256, bias=True)\",\"MaxPool2d(kernel_size=3, stride=2, padding=1, dilation=1, ceil_mode=False)\",\"ReLU()\",\"ReLU()\",\"Conv2d(128, 128, kernel_size=(3, 3), stride=(1, 1), padding=(1, 1))\",\"Conv2d(128, 128, kernel_size=(3, 3), stride=(1, 1), padding=(1, 1))\",\"Conv2d(64, 64, kernel_size=(3, 3), stride=(1, 1), padding=(1, 1))\",\"ReLU()\",\"Flatten()\",\"ReLU()\",\"ReLU()\",\"ReLU()\",\"Conv2d(128, 128, kernel_size=(3, 3), stride=(1, 1), padding=(1, 1))\",\"ReLU()\",\"ResidualAdd()\",\"Conv2d(128, 128, kernel_size=(3, 3), stride=(1, 1), padding=(1, 1))\",\"Linear(in_features=256, out_features=15, bias=True)\",\"Conv2d(128, 128, kernel_size=(3, 3), stride=(1, 1), padding=(1, 1))\",\"Conv2d(64, 64, kernel_size=(3, 3), stride=(1, 1), padding=(1, 1))\",\"ReLU()\",\"Conv2d(64, 128, kernel_size=(3, 3), stride=(1, 1), padding=(1, 1))\",\"torch.Size([1, 3, 64, 64])\",\"torch.Size([1, 64, 64, 64])\",\"torch.Size([1, 64, 32, 32])\",\"torch.Size([1, 64, 32, 32])\",\"torch.Size([1, 64, 32, 32])\",\"torch.Size([1, 64, 32, 32])\",\"torch.Size([1, 64, 32, 32])\",\"torch.Size([1, 64, 32, 32])\",\"torch.Size([1, 64, 32, 32])\",\"torch.Size([1, 64, 32, 32])\",\"torch.Size([1, 64, 32, 32])\",\"torch.Size([1, 64, 32, 32])\",\"torch.Size([1, 64, 32, 32])\",\"torch.Size([1, 128, 32, 32])\",\"torch.Size([1, 128, 16, 16])\",\"torch.Size([1, 128, 16, 16])\",\"torch.Size([1, 128, 16, 16])\",\"torch.Size([1, 128, 16, 16])\",\"torch.Size([1, 128, 16, 16])\",\"torch.Size([1, 128, 16, 16])\",\"torch.Size([1, 128, 16, 16])\",\"torch.Size([1, 128, 16, 16])\",\"torch.Size([1, 128, 16, 16])\",\"torch.Size([1, 128, 16, 16])\",\"torch.Size([1, 128, 16, 16])\",\"torch.Size([1, 128, 16, 16])\",\"torch.Size([1, 128, 8, 8])\",\"torch.Size([1, 128, 8, 8])\",\"torch.Size([1, 128, 8, 8])\",\"torch.Size([1, 128, 8, 8])\",\"torch.Size([1, 128, 8, 8])\",\"torch.Size([1, 128, 8, 8])\",\"torch.Size([1, 128, 8, 8])\",\"torch.Size([1, 128, 8, 8])\",\"torch.Size([1, 128, 8, 8])\",\"torch.Size([1, 128, 8, 8])\",\"torch.Size([1, 128, 8, 8])\",\"torch.Size([1, 128, 8, 8])\",\"torch.Size([1, 8192])\",\"torch.Size([1, 256])\",\"torch.Size([1, 256])\",\"torch.Size([1, 15])\",\"torch.Size([1, 1])\",\"\"],\"index\":{\"__ndarray__\":\"AAAAAAEAAAACAAAAAwAAAAQAAAAFAAAABgAAAAcAAAAIAAAACQAAAAoAAAALAAAADAAAAA0AAAAOAAAADwAAABAAAAARAAAAEgAAABMAAAAUAAAAFQAAABYAAAAXAAAAGAAAABkAAAAaAAAAGwAAABwAAAAdAAAAHgAAAB8AAAAgAAAAIQAAACIAAAAjAAAAJAAAACUAAAAmAAAAJwAAACgAAAApAAAAKgAAACsAAAAsAAAALQAAAC4AAAAvAAAAMAAAADEAAAAyAAAAMwAAADQAAAA1AAAANgAAADcAAAA4AAAAOQAAADoAAAA7AAAAPAAAAD0AAAA+AAAAPwAAAEAAAABBAAAAQgAAAEMAAABEAAAARQAAAEYAAABHAAAASAAAAEkAAABKAAAASwAAAEwAAABNAAAATgAAAE8AAABQAAAAUQAAAFIAAABTAAAAVAAAAFUAAAA=\",\"dtype\":\"int32\",\"order\":\"little\",\"shape\":[86]},\"index_hover\":[\"embedder.block2.res2.conv2\",\"embedder.block3.res1.relu1\",\"embedder.block2.res1.relu1\",\"embedder.relufc\",\"embedder.block1.res1.conv1\",\"embedder.block1.res1.relu2\",\"embedder.block1.maxpool\",\"embedder.block1.res2.resadd\",\"embedder.block2.res2.resadd\",\"embedder.block2.res2.relu1\",\"embedder.block1.res1.conv2\",\"embedder.block2.res2.conv1\",\"embedder.block2.maxpool\",\"embedder.block3.res1.resadd\",\"embedder.block1.res1.resadd\",\"fc_value\",\"embedder.block2.res1.conv1\",\"embedder.block2.res1.relu2\",\"embedder.block2.res1.resadd\",\"embedder.block1.conv\",\"embedder.block3.res2.conv2\",\"embedder.fc\",\"embedder.block3.maxpool\",\"embedder.block3.res2.relu2\",\"embedder.block1.res2.relu1\",\"embedder.block2.res1.conv2\",\"embedder.block3.res1.conv1\",\"embedder.block1.res2.conv2\",\"embedder.block1.res2.relu2\",\"embedder.flatten\",\"embedder.block3.res1.relu2\",\"embedder.block1.res1.relu1\",\"embedder.relu3\",\"embedder.block3.res1.conv2\",\"embedder.block3.res2.relu1\",\"embedder.block3.res2.resadd\",\"embedder.block3.res2.conv1\",\"fc_policy\",\"embedder.block3.conv\",\"embedder.block1.res2.conv1\",\"embedder.block2.res2.relu2\",\"embedder.block2.conv\",\"embedder.block1.conv_in0\",\"embedder.block1.conv_out\",\"embedder.block1.maxpool_out\",\"embedder.block1.res1.relu1_out\",\"embedder.block1.res1.conv1_out\",\"embedder.block1.res1.relu2_out\",\"embedder.block1.res1.conv2_out\",\"embedder.block1.res1.resadd_out\",\"embedder.block1.res2.relu1_out\",\"embedder.block1.res2.conv1_out\",\"embedder.block1.res2.relu2_out\",\"embedder.block1.res2.conv2_out\",\"embedder.block1.res2.resadd_out\",\"embedder.block2.conv_out\",\"embedder.block2.maxpool_out\",\"embedder.block2.res1.relu1_out\",\"embedder.block2.res1.conv1_out\",\"embedder.block2.res1.relu2_out\",\"embedder.block2.res1.conv2_out\",\"embedder.block2.res1.resadd_out\",\"embedder.block2.res2.relu1_out\",\"embedder.block2.res2.conv1_out\",\"embedder.block2.res2.relu2_out\",\"embedder.block2.res2.conv2_out\",\"embedder.block2.res2.resadd_out\",\"embedder.block3.conv_out\",\"embedder.block3.maxpool_out\",\"embedder.block3.res1.relu1_out\",\"embedder.block3.res1.conv1_out\",\"embedder.block3.res1.relu2_out\",\"embedder.block3.res1.conv2_out\",\"embedder.block3.res1.resadd_out\",\"embedder.block3.res2.relu1_out\",\"embedder.block3.res2.conv1_out\",\"embedder.block3.res2.relu2_out\",\"embedder.block3.res2.conv2_out\",\"embedder.block3.res2.resadd_out\",\"embedder.relu3_out\",\"embedder.flatten_out\",\"embedder.fc_out\",\"embedder.relufc_out\",\"fc_policy_out\",\"fc_value_out\",\"_out\"],\"node_fill_color\":[46,54,30,80,8,10,4,24,48,40,12,42,28,62,14,83,32,34,38,2,70,78,52,68,16,36,56,22,20,76,58,6,74,60,64,72,66,82,50,18,44,26,0,3,5,7,9,11,13,15,17,19,21,23,25,27,29,31,33,35,37,39,41,43,45,47,49,51,53,55,57,59,61,63,65,67,69,71,73,75,77,79,81,84,85,1],\"node_size\":{\"__ndarray__\":\"wAofAMZILEDACh8AxkgsQMAKHwDGSCxAwAofAMZILEDACh8AxkgsQMAKHwDGSCxAwAofAMZILEDACh8AxkgsQMAKHwDGSCxAwAofAMZILEDACh8AxkgsQMAKHwDGSCxAwAofAMZILEDACh8AxkgsQMAKHwDGSCxAwAofAMZILEDACh8AxkgsQMAKHwDGSCxAwAofAMZILEDACh8AxkgsQMAKHwDGSCxAwAofAMZILEDACh8AxkgsQMAKHwDGSCxAwAofAMZILEDACh8AxkgsQMAKHwDGSCxAwAofAMZILEDACh8AxkgsQMAKHwDGSCxAwAofAMZILEDACh8AxkgsQMAKHwDGSCxAwAofAMZILEDACh8AxkgsQMAKHwDGSCxAwAofAMZILEDACh8AxkgsQMAKHwDGSCxAwAofAMZILEDACh8AxkgsQMAKHwDGSCxAAAAAAAAAJEAAAAAAAAAkQAAAAAAAACRAAAAAAAAAJEAAAAAAAAAkQAAAAAAAACRAAAAAAAAAJEAAAAAAAAAkQAAAAAAAACRAAAAAAAAAJEAAAAAAAAAkQAAAAAAAACRAAAAAAAAAJEAAAAAAAAAkQAAAAAAAACRAAAAAAAAAJEAAAAAAAAAkQAAAAAAAACRAAAAAAAAAJEAAAAAAAAAkQAAAAAAAACRAAAAAAAAAJEAAAAAAAAAkQAAAAAAAACRAAAAAAAAAJEAAAAAAAAAkQAAAAAAAACRAAAAAAAAAJEAAAAAAAAAkQAAAAAAAACRAAAAAAAAAJEAAAAAAAAAkQAAAAAAAACRAAAAAAAAAJEAAAAAAAAAkQAAAAAAAACRAAAAAAAAAJEAAAAAAAAAkQAAAAAAAACRAAAAAAAAAJEAAAAAAAAAkQAAAAAAAACRAAAAAAAAAJEAAAAAAAAAkQA==\",\"dtype\":\"float64\",\"order\":\"little\",\"shape\":[86]},\"type\":[\"module\",\"module\",\"module\",\"module\",\"module\",\"module\",\"module\",\"module\",\"module\",\"module\",\"module\",\"module\",\"module\",\"module\",\"module\",\"module\",\"module\",\"module\",\"module\",\"module\",\"module\",\"module\",\"module\",\"module\",\"module\",\"module\",\"module\",\"module\",\"module\",\"module\",\"module\",\"module\",\"module\",\"module\",\"module\",\"module\",\"module\",\"module\",\"module\",\"module\",\"module\",\"module\",\"value\",\"value\",\"value\",\"value\",\"value\",\"value\",\"value\",\"value\",\"value\",\"value\",\"value\",\"value\",\"value\",\"value\",\"value\",\"value\",\"value\",\"value\",\"value\",\"value\",\"value\",\"value\",\"value\",\"value\",\"value\",\"value\",\"value\",\"value\",\"value\",\"value\",\"value\",\"value\",\"value\",\"value\",\"value\",\"value\",\"value\",\"value\",\"value\",\"value\",\"value\",\"value\",\"value\",\"value\"]},\"selected\":{\"id\":\"1087\"},\"selection_policy\":{\"id\":\"1086\"}},\"id\":\"1040\",\"type\":\"ColumnDataSource\"},{\"attributes\":{},\"id\":\"1024\",\"type\":\"SaveTool\"},{\"attributes\":{},\"id\":\"1089\",\"type\":\"Selection\"},{\"attributes\":{},\"id\":\"1025\",\"type\":\"PanTool\"},{\"attributes\":{},\"id\":\"1026\",\"type\":\"WheelZoomTool\"},{\"attributes\":{\"overlay\":{\"id\":\"1030\"}},\"id\":\"1027\",\"type\":\"BoxZoomTool\"},{\"attributes\":{\"end\":0.48145455444542706,\"reset_end\":0.48145455444542706,\"reset_start\":-0.47893905891708843,\"start\":-0.47893905891708843,\"tags\":[[[\"y\",\"y\",null]]]},\"id\":\"1005\",\"type\":\"Range1d\"},{\"attributes\":{},\"id\":\"1028\",\"type\":\"ResetTool\"},{\"attributes\":{\"coordinates\":null,\"data_source\":{\"id\":\"1040\"},\"glyph\":{\"id\":\"1043\"},\"group\":null,\"hover_glyph\":{\"id\":\"1045\"},\"muted_glyph\":{\"id\":\"1046\"},\"nonselection_glyph\":{\"id\":\"1044\"},\"view\":{\"id\":\"1048\"}},\"id\":\"1047\",\"type\":\"GlyphRenderer\"},{\"attributes\":{\"bottom_units\":\"screen\",\"coordinates\":null,\"fill_alpha\":0.5,\"fill_color\":\"lightgrey\",\"group\":null,\"left_units\":\"screen\",\"level\":\"overlay\",\"line_alpha\":1.0,\"line_color\":\"black\",\"line_dash\":[4,4],\"line_width\":2,\"right_units\":\"screen\",\"syncable\":false,\"top_units\":\"screen\"},\"id\":\"1030\",\"type\":\"BoxAnnotation\"},{\"attributes\":{},\"id\":\"1012\",\"type\":\"LinearScale\"},{\"attributes\":{\"fill_alpha\":{\"value\":0.2},\"fill_color\":{\"field\":\"node_fill_color\",\"transform\":{\"id\":\"1039\"}},\"hatch_alpha\":{\"value\":0.2},\"hatch_color\":{\"value\":\"#30a2da\"},\"line_alpha\":{\"value\":0.2},\"size\":{\"field\":\"node_size\"}},\"id\":\"1046\",\"type\":\"Circle\"},{\"attributes\":{},\"id\":\"1064\",\"type\":\"NodesAndLinkedEdges\"},{\"attributes\":{\"coordinates\":null,\"group\":null,\"text_color\":\"black\",\"text_font_size\":\"12pt\"},\"id\":\"1008\",\"type\":\"Title\"},{\"attributes\":{\"children\":[{\"id\":\"1007\"}],\"height\":800,\"margin\":[0,0,0,0],\"name\":\"Row00818\",\"sizing_mode\":\"fixed\",\"tags\":[\"embedded\"],\"width\":800},\"id\":\"1003\",\"type\":\"Row\"},{\"attributes\":{\"source\":{\"id\":\"1040\"}},\"id\":\"1048\",\"type\":\"CDSView\"},{\"attributes\":{\"fill_color\":{\"field\":\"node_fill_color\",\"transform\":{\"id\":\"1039\"}},\"hatch_color\":{\"value\":\"#30a2da\"},\"size\":{\"field\":\"node_size\"}},\"id\":\"1043\",\"type\":\"Circle\"},{\"attributes\":{},\"id\":\"1086\",\"type\":\"UnionRenderers\"},{\"attributes\":{\"fill_alpha\":{\"value\":0.2},\"fill_color\":{\"value\":\"#30a2da\"},\"hatch_alpha\":{\"value\":0.2},\"hatch_color\":{\"value\":\"#30a2da\"},\"line_alpha\":{\"value\":0.2},\"size\":{\"field\":\"node_size\"}},\"id\":\"1044\",\"type\":\"Circle\"},{\"attributes\":{\"coordinates\":null,\"edge_renderer\":{\"id\":\"1053\"},\"group\":null,\"inspection_policy\":{\"id\":\"1066\"},\"layout_provider\":{\"id\":\"1042\"},\"node_renderer\":{\"id\":\"1047\"},\"selection_policy\":{\"id\":\"1064\"}},\"id\":\"1055\",\"type\":\"GraphRenderer\"},{\"attributes\":{\"graph_layout\":{\"0\":[0.09725024188089217,-0.29447222996034267],\"1\":[0.27480526843621667,-0.1360905328328307],\"10\":[-0.4833556105312046,0.24664470401685115],\"11\":[-0.06227396103478259,-0.37417423302951985],\"12\":[-0.25147618967150354,-0.09455825175327473],\"13\":[0.34023477170387556,0.004141405438429081],\"14\":[-0.539301147533658,0.14568541230108614],\"15\":[0.950571250840594,0.15115749111875862],\"16\":[-0.33855280657665476,-0.3066860037502088],\"17\":[-0.25136153880661377,-0.36856022783074227],\"18\":[-0.14363373313589964,-0.17134879116179805],\"19\":[-0.7596828936618486,0.2023293311305678],\"2\":[-0.3075885466115128,-0.1926315234555574],\"20\":[0.47353063102079374,0.28761647957784253],\"21\":[0.7492379678778764,0.12461389727788283],\"22\":[0.2125828908325801,-0.05011447732147964],\"23\":[0.3748932728006031,0.3191391457545916],\"24\":[-0.6219473772242848,0.07290190486174608],\"25\":[-0.1611273786872587,-0.3043190977474047],\"26\":[0.3582480540264162,-0.21958492077311248],\"27\":[-0.5370493719593905,-0.10552539526747538],\"28\":[-0.6473857793909438,-0.11013100471434316],\"29\":[0.6444772345202976,0.11457587393910686],\"3\":[0.8508993556675317,0.13731444902571444],\"30\":[0.45559888450586755,-0.17761400696834617],\"31\":[-0.6553466398778359,0.3049362319174965],\"32\":[0.5337616230462783,0.110871015021676],\"33\":[0.46008821529310057,-0.066294442288418],\"34\":[0.30442983176394317,0.11424025201944925],\"35\":[0.4222427429583947,0.13286118027850324],\"36\":[0.3026261764866803,0.2331890558114951],\"37\":[0.9506591614511903,0.15054419646935108],\"38\":[0.09425947869835169,-0.08817395216896408],\"39\":[-0.6984174564880498,-0.014753261285416498],\"4\":[-0.6171118860017398,0.40142175333188407],\"40\":[0.043479284584824376,-0.3901942149587484],\"41\":[-0.3493020315841491,-0.017778491832346918],\"42\":[-0.8126385675613034,0.20974038870045428],\"43\":[-0.7041895313278896,0.19763636247765362],\"44\":[-0.5975393338703026,0.21248891112987203],\"45\":[-0.6611044950704004,0.36701798791222745],\"46\":[-0.5612496612124086,0.39399956939157754],\"47\":[-0.4917777159884462,0.30526710836118537],\"48\":[-0.4924316055723304,0.18687311664707373],\"49\":[-0.5321589542133351,0.0769637143451459],\"5\":[-0.5174608399829205,0.3573660115409598],\"50\":[-0.6753000651758572,0.038066247966672316],\"51\":[-0.6864037633859531,-0.06978649237142469],\"52\":[-0.5926503478421775,-0.12360279360830982],\"53\":[-0.49119586910046864,-0.062071519861645705],\"54\":[-0.40818807764103066,0.006024003097152243],\"55\":[-0.29636141311904607,-0.050771578427434946],\"56\":[-0.22319632020190788,-0.15155347193352015],\"57\":[-0.3401496350034039,-0.24838165598200257],\"58\":[-0.30433769526985455,-0.3512530628900146],\"59\":[-0.19806991163182844,-0.3512406874646958],\"6\":[-0.647307941264427,0.1988423974580395],\"60\":[-0.13728127367145884,-0.24286338563783497],\"61\":[-0.07615767461356586,-0.1816959767062023],\"62\":[-0.09064691505842512,-0.32194046936324355],\"63\":[-0.011801183609743455,-0.3989062578035455],\"64\":[0.08483441414671464,-0.35184605730456064],\"65\":[0.07735964460647994,-0.23270604413462842],\"66\":[0.04325316193859783,-0.12399832953356181],\"67\":[0.15122323449410505,-0.06399193224563175],\"68\":[0.2776087075039917,-0.05100491824495373],\"69\":[0.3082502136296813,-0.19009280041230608],\"7\":[-0.4737605896800894,0.016901391022885518],\"70\":[0.4136784248455042,-0.21427686328941326],\"71\":[0.47224724641368104,-0.12356166230208679],\"72\":[0.4208178918986359,-0.01724349699950474],\"73\":[0.3579108554523054,0.07274415759923698],\"74\":[0.2936428721521334,0.174472015359042],\"75\":[0.32981273322495896,0.28444412421474136],\"76\":[0.4307379249944239,0.3238314284184602],\"77\":[0.47350283101868107,0.22449637584920604],\"78\":[0.4757506035976416,0.11594344341781503],\"79\":[0.5901068804986209,0.1113645946442742],\"8\":[0.005130125253296569,-0.17516492762528582],\"80\":[0.6973746102008901,0.11917403432415957],\"81\":[0.8003590717494776,0.13066263052011237],\"82\":[0.9010319953070276,0.14392183317586252],\"83\":[1.0,0.1584619841489712],\"84\":[0.9998042843972906,0.15972014133708248],\"85\":[0.049511618295028495,-0.003458182699832587],\"9\":[-0.09955195416957334,-0.2561901264103256]}},\"id\":\"1042\",\"type\":\"StaticLayoutProvider\"},{\"attributes\":{},\"id\":\"1087\",\"type\":\"Selection\"},{\"attributes\":{\"active_drag\":{\"id\":\"1025\"},\"active_scroll\":{\"id\":\"1026\"},\"tools\":[{\"id\":\"1006\"},{\"id\":\"1024\"},{\"id\":\"1025\"},{\"id\":\"1026\"},{\"id\":\"1027\"},{\"id\":\"1028\"},{\"id\":\"1029\"}]},\"id\":\"1031\",\"type\":\"Toolbar\"},{\"attributes\":{\"below\":[{\"id\":\"1016\"}],\"center\":[{\"id\":\"1019\"},{\"id\":\"1023\"}],\"height\":800,\"left\":[{\"id\":\"1020\"}],\"margin\":[5,5,5,5],\"min_border_bottom\":10,\"min_border_left\":10,\"min_border_right\":10,\"min_border_top\":10,\"outline_line_alpha\":0,\"renderers\":[{\"id\":\"1055\"}],\"sizing_mode\":\"fixed\",\"title\":{\"id\":\"1008\"},\"toolbar\":{\"id\":\"1031\"},\"width\":800,\"x_range\":{\"id\":\"1004\"},\"x_scale\":{\"id\":\"1012\"},\"y_range\":{\"id\":\"1005\"},\"y_scale\":{\"id\":\"1014\"}},\"id\":\"1007\",\"subtype\":\"Figure\",\"type\":\"Plot\"},{\"attributes\":{\"data\":{\"end\":{\"__ndarray__\":\"QQAAAEUAAAA5AAAAUgAAAC4AAAAvAAAALAAAADYAAABCAAAAPgAAADAAAAA/AAAAOAAAAEkAAAAxAAAAVAAAADoAAAA7AAAAPQAAACsAAABNAAAAUQAAAEQAAABMAAAAMgAAADwAAABGAAAANQAAADQAAABQAAAARwAAAC0AAABPAAAASAAAAEoAAABOAAAASwAAAFMAAABDAAAAMwAAAEAAAAA3AAAAEwAAAAYAAAAOAAAAHwAAAAQAAAAFAAAACgAAAA4AAAAHAAAAGAAAACcAAAAcAAAAGwAAAAcAAAApAAAADAAAABIAAAACAAAAEAAAABEAAAAZAAAAEgAAAAkAAAAIAAAACwAAACgAAAAAAAAACAAAACYAAAAWAAAAAQAAAA0AAAAaAAAAHgAAACEAAAANAAAAIgAAACMAAAAkAAAAFwAAABQAAAAjAAAAIAAAAB0AAAAVAAAAAwAAACUAAAAPAAAA\",\"dtype\":\"int32\",\"order\":\"little\",\"shape\":[90]},\"start\":{\"__ndarray__\":\"AAAAAAEAAAACAAAAAwAAAAQAAAAFAAAABgAAAAcAAAAIAAAACQAAAAoAAAALAAAADAAAAA0AAAAOAAAADwAAABAAAAARAAAAEgAAABMAAAAUAAAAFQAAABYAAAAXAAAAGAAAABkAAAAaAAAAGwAAABwAAAAdAAAAHgAAAB8AAAAgAAAAIQAAACIAAAAjAAAAJAAAACUAAAAmAAAAJwAAACgAAAApAAAAKgAAACsAAAAsAAAALAAAAC0AAAAuAAAALwAAADAAAAAxAAAAMQAAADIAAAAzAAAANAAAADUAAAA2AAAANwAAADgAAAA4AAAAOQAAADoAAAA7AAAAPAAAAD0AAAA9AAAAPgAAAD8AAABAAAAAQQAAAEIAAABDAAAARAAAAEQAAABFAAAARgAAAEcAAABIAAAASQAAAEkAAABKAAAASwAAAEwAAABNAAAATgAAAE8AAABQAAAAUQAAAFIAAABSAAAA\",\"dtype\":\"int32\",\"order\":\"little\",\"shape\":[90]},\"xs\":[{\"__ndarray__\":\"yRFoUGTluD+RcZ13182zPwAAAAAAAPh/KuaNEJwWtz+RcZ13182zP5C3cE2SZLM/\",\"dtype\":\"float64\",\"order\":\"little\",\"shape\":[6]},{\"__ndarray__\":\"au4s1miW0T9SkaEaX7rTPwAAAAAAAPh/DrObr9Sy0j9SkaEaX7rTP9ENjwcShtM/\",\"dtype\":\"float64\",\"order\":\"little\",\"shape\":[6]},{\"__ndarray__\":\"BoUU34ev079QgIX5AsXVvwAAAAAAAPh//Of+NAaZ1b9QgIX5AsXVv7jl8cx3wtS/\",\"dtype\":\"float64\",\"order\":\"little\",\"shape\":[6]},{\"__ndarray__\":\"1vEYSZE66z8wyQ8NQdXsPwAAAAAAAPh/VGIHArFI7D8wyQ8NQdXsP5jGOzZ1OOw/\",\"dtype\":\"float64\",\"order\":\"little\",\"shape\":[6]},{\"__ndarray__\":\"FzYLbWG/479JjHnZwfXhvwAAAAAAAPh/N5OO8piS4r9JjHnZwfXhv05gDRA8guK/\",\"dtype\":\"float64\",\"order\":\"little\",\"shape\":[6]},{\"__ndarray__\":\"of4VCQqP4L/gmsQ9SXnfvwAAAAAAAPh/1oFb2Ko24L/gmsQ9SXnfvyF9nP94jt+/\",\"dtype\":\"float64\",\"order\":\"little\",\"shape\":[6]},{\"__ndarray__\":\"aX/FJL+25L+KfSHPCh/jvwAAAAAAAPh/vPhnJz6f47+KfSHPCh/jvx27FWoYwOO/\",\"dtype\":\"float64\",\"order\":\"little\",\"shape\":[6]},{\"__ndarray__\":\"dNGz7xdS3r8jdgXjwB/avwAAAAAAAPh/Hx1ppvhb278jdgXjwB/av770CVBPM9u/\",\"dtype\":\"float64\",\"order\":\"little\",\"shape\":[6]},{\"__ndarray__\":\"Zib/glMDdT8dIvNHRyWmPwAAAAAAAPh/qTxU1Kqooz8dIvNHRyWmPw1BOdNk3Zo/\",\"dtype\":\"float64\",\"order\":\"little\",\"shape\":[6]},{\"__ndarray__\":\"80Rpozx8ub8Gw6jfojS3vwAAAAAAAPh/NTytHxnCub8Gw6jfojS3v9FDoD416bW/\",\"dtype\":\"float64\",\"order\":\"little\",\"shape\":[6]},{\"__ndarray__\":\"73TkXkzv3r+py1za/4PfvwAAAAAAAPh/6nxZ0MzR37+py1za/4Pfv7/gDDgl3N6/\",\"dtype\":\"float64\",\"order\":\"little\",\"shape\":[6]},{\"__ndarray__\":\"ddMSZF/ir7+3dUMNOCuIvwAAAAAAAPh/GiAw5c0qoL+3dUMNOCuIvxrB9GxLgJm/\",\"dtype\":\"float64\",\"order\":\"little\",\"shape\":[6]},{\"__ndarray__\":\"vieXli8Y0L8SaO1vspHMvwAAAAAAAPh/nbl3t+V6zr8SaO1vspHMv5CccNa9vcy/\",\"dtype\":\"float64\",\"order\":\"little\",\"shape\":[6]},{\"__ndarray__\":\"74dbEGjG1T8oRMPuAujWPwAAAAAAAPh/LTyAY3sV1z8oRMPuAujWP7pjY7feJNY/\",\"dtype\":\"float64\",\"order\":\"little\",\"shape\":[6]},{\"__ndarray__\":\"TkbrevRB4b+y1RM3cgfhvwAAAAAAAPh//RIouLtU4b+y1RM3cgfhv0osFOAp2eC/\",\"dtype\":\"float64\",\"order\":\"little\",\"shape\":[6]},{\"__ndarray__\":\"6xlcZhRr7j+vYvyNZf7vPwAAAAAAAPh/fjEPDEt17z+vYvyNZf7vP/fbtG8BYO8/\",\"dtype\":\"float64\",\"order\":\"little\",\"shape\":[6]},{\"__ndarray__\":\"yM4NZNmq1b9C8AfQRHrTvwAAAAAAAPh/zGPwK3WT1L9C8AfQRHrTvyOsItFeztO/\",\"dtype\":\"float64\",\"order\":\"little\",\"shape\":[6]},{\"__ndarray__\":\"kWIptU4W0L9N4WPYWlrJvwAAAAAAAPh/l+LZxAtIy79N4WPYWlrJv4NeW0Gk4cu/\",\"dtype\":\"float64\",\"order\":\"little\",\"shape\":[6]},{\"__ndarray__\":\"9+U1FZdiwr8r/83BEX+zvwAAAAAAAPh/df/swUBsuL8r/83BEX+zvwwiOSSb1be/\",\"dtype\":\"float64\",\"order\":\"little\",\"shape\":[6]},{\"__ndarray__\":\"E3fzf1JP6L+wpOd7uIjmvwAAAAAAAPh/gELhD2Mj57+wpOd7uIjmv0NSTwHrGOe/\",\"dtype\":\"float64\",\"order\":\"little\",\"shape\":[6]},{\"__ndarray__\":\"Ct54a1NO3j88eXLR3k3ePwAAAAAAAPh/Pqf/aMTR3T88eXLR3k3ePyEsTdw8yt4/\",\"dtype\":\"float64\",\"order\":\"little\",\"shape\":[6]},{\"__ndarray__\":\"kJ8e58H55z/PEcegipzpPwAAAAAAAPh/rpDXAeoO6T/PEcegipzpPzkQcPJQAOk/\",\"dtype\":\"float64\",\"order\":\"little\",\"shape\":[6]},{\"__ndarray__\":\"NVToieo1yz9YIPRPV8TRPwAAAAAAAPh/GjH11byW0D9YIPRPV8TRP/64RMkjmtA/\",\"dtype\":\"float64\",\"order\":\"little\",\"shape\":[6]},{\"__ndarray__\":\"19CKWkD+1z9x3j/NNZHbPwAAAAAAAPh/jk2xJbxw2j9x3j/NNZHbP2UafknuW9o/\",\"dtype\":\"float64\",\"order\":\"little\",\"shape\":[6]},{\"__ndarray__\":\"ZVygL/7m47/cV93hDpzlvwAAAAAAAPh/PJAgIXNA5b/cV93hDpzlv5LCmFmH/OS/\",\"dtype\":\"float64\",\"order\":\"little\",\"shape\":[6]},{\"__ndarray__\":\"mdr5atKfxL+J1WLKbpLBvwAAAAAAAPh/jFvM78iDwb+J1WLKbpLBvz6atW4SU8O/\",\"dtype\":\"float64\",\"order\":\"little\",\"shape\":[6]},{\"__ndarray__\":\"1Yr5Pont1j9KbHEStXnaPwAAAAAAAPh/zABRQPxa2T9KbHEStXnaP+H7oMpMQ9k/\",\"dtype\":\"float64\",\"order\":\"little\",\"shape\":[6]},{\"__ndarray__\":\"vOQcKoIv4b824G3MwG/fvwAAAAAAAPh/oyqB5P/z37824G3MwG/fvznmy8V0T+C/\",\"dtype\":\"float64\",\"order\":\"little\",\"shape\":[6]},{\"__ndarray__\":\"eSXMYWK35L/jPr7c/fbivwAAAAAAAPh/NLus7nSX47/jPr7c/fbiv9hKhvDDeeO/\",\"dtype\":\"float64\",\"order\":\"little\",\"shape\":[6]},{\"__ndarray__\":\"mP+ouI6f5D9L9PuO5FDmPwAAAAAAAPh/+w4nzd7A5T9L9PuO5FDmP8yZPZIctuU/\",\"dtype\":\"float64\",\"order\":\"little\",\"shape\":[6]},{\"__ndarray__\":\"e/5COYgo3T+TQr6DTDnePwAAAAAAAPh/sTEVLr5X3j+TQr6DTDneP+DfY+NHat0/\",\"dtype\":\"float64\",\"order\":\"little\",\"shape\":[6]},{\"__ndarray__\":\"kTM6hJn45L9eHDKdxCflvwAAAAAAAPh/8dvDCRHc5L9eHDKdxCflv3+DwVrFV+W/\",\"dtype\":\"float64\",\"order\":\"little\",\"shape\":[6]},{\"__ndarray__\":\"JP9aQZMU4T9mWxzTJ+LiPwAAAAAAAPh/C3xlfr1M4j9mWxzTJ+LiP7Xe8OamS+I/\",\"dtype\":\"float64\",\"order\":\"little\",\"shape\":[6]},{\"__ndarray__\":\"MV591xVy3T/5rtEqru7aPwAAAAAAAPh/s5FBSB0L3D/5rtEqru7aPx/vywYmSds/\",\"dtype\":\"float64\",\"order\":\"little\",\"shape\":[6]},{\"__ndarray__\":\"NZbWQsd70z/5MyZ5C8vSPwAAAAAAAPh/8eVdQDV60z/5MyZ5C8vSP0Q4FvighdI/\",\"dtype\":\"float64\",\"order\":\"little\",\"shape\":[6]},{\"__ndarray__\":\"arL+bAYG2z+tQ+CosnLePwAAAAAAAPh/fFItukQv3T+tQ+CosnLePwd49l8set0/\",\"dtype\":\"float64\",\"order\":\"little\",\"shape\":[6]},{\"__ndarray__\":\"zR+7Ljpe0z9IW8DdphvVPwAAAAAAAPh/rHzCrdz81D9IW8DdphvVP/0e7apbIdQ/\",\"dtype\":\"float64\",\"order\":\"little\",\"shape\":[6]},{\"__ndarray__\":\"smsCw8xr7j8AAAAAAADwPwAAAAAAAPh/RJkAdcV17z8AAAAAAADwPzZB9UIWYu8/\",\"dtype\":\"float64\",\"order\":\"little\",\"shape\":[6]},{\"__ndarray__\":\"HvFYomMhuD8lFUZvSFvDPwAAAAAAAPh/p6JhlzWUwT8lFUZvSFvDP4+UNegF0sA/\",\"dtype\":\"float64\",\"order\":\"little\",\"shape\":[6]},{\"__ndarray__\":\"LUvSkG9Z5r/5AXMGBfflvwAAAAAAAPh/QpkbLLFT5r/5AXMGBfflvzxbobJQ2uW/\",\"dtype\":\"float64\",\"order\":\"little\",\"shape\":[6]},{\"__ndarray__\":\"2sqwsupCpj+m4FVKtbe1PwAAAAAAAPh/hLqX++OZsz+m4FVKtbe1P4AyL7ka9rA/\",\"dtype\":\"float64\",\"order\":\"little\",\"shape\":[6]},{\"__ndarray__\":\"TCOF6PZa1r8mIUnclffSvwAAAAAAAPh//AKP3NY31L8mIUnclffSvxXLA/1rtNO/\",\"dtype\":\"float64\",\"order\":\"little\",\"shape\":[6]},{\"__ndarray__\":\"V5zkmCIB6r8Td/N/Uk/ovwAAAAAAAPh/6RzmEnPs6L8Td/N/Uk/ov6+GJxU72+i/\",\"dtype\":\"float64\",\"order\":\"little\",\"shape\":[6]},{\"__ndarray__\":\"sKTne7iI5r9pf8Ukv7bkvwAAAAAAAPh/rWf1hlxL5b9pf8Ukv7bkv5fl3rT+TeW/\",\"dtype\":\"float64\",\"order\":\"little\",\"shape\":[6]},{\"__ndarray__\":\"in0hzwof479ORut69EHhvwAAAAAAAPh/WthXFVPT4b9ORut69EHhvxs2vsmtdeG/\",\"dtype\":\"float64\",\"order\":\"little\",\"shape\":[6]},{\"__ndarray__\":\"in0hzwof47+RMzqEmfjkvwAAAAAAAPh/uPYQG2x05L+RMzqEmfjkvyYuvWbC3eS/\",\"dtype\":\"float64\",\"order\":\"little\",\"shape\":[6]},{\"__ndarray__\":\"XhwyncQn5b8XNgttYb/jvwAAAAAAAPh/TwK24D4P5L8XNgttYb/jv3CIcSzHW+S/\",\"dtype\":\"float64\",\"order\":\"little\",\"shape\":[6]},{\"__ndarray__\":\"SYx52cH14b+h/hUJCo/gvwAAAAAAAPh/39HhV+sp4b+h/hUJCo/gvzENq9Yz2uC/\",\"dtype\":\"float64\",\"order\":\"little\",\"shape\":[6]},{\"__ndarray__\":\"4JrEPUl537/vdOReTO/evwAAAAAAAPh/HCKoVOyU37/vdOReTO/ev0L+cFT6nt6/\",\"dtype\":\"float64\",\"order\":\"little\",\"shape\":[6]},{\"__ndarray__\":\"qctc2v+D379ORut69EHhvwAAAAAAAPh/PjyIWE/64L9ORut69EHhvxjqIxtNqOC/\",\"dtype\":\"float64\",\"order\":\"little\",\"shape\":[6]},{\"__ndarray__\":\"stUTN3IH4b900bPvF1LevwAAAAAAAPh/MC4m3j9837900bPvF1Lev+//vZwayt6/\",\"dtype\":\"float64\",\"order\":\"little\",\"shape\":[6]},{\"__ndarray__\":\"stUTN3IH4b9lXKAv/ubjvwAAAAAAAPh/NeNX8vxT479lXKAv/ubjv06LtqtfTuO/\",\"dtype\":\"float64\",\"order\":\"little\",\"shape\":[6]},{\"__ndarray__\":\"3Ffd4Q6c5b8tS9KQb1nmvwAAAAAAAPh/TlCarjZW5r8tS9KQb1nmv2Kflsxm5OW/\",\"dtype\":\"float64\",\"order\":\"little\",\"shape\":[6]},{\"__ndarray__\":\"+QFzBgX35b95JcxhYrfkvwAAAAAAAPh/J3A1W0pM5b95JcxhYrfkvwreTar88uS/\",\"dtype\":\"float64\",\"order\":\"little\",\"shape\":[6]},{\"__ndarray__\":\"4z6+3P324r+85Bwqgi/hvwAAAAAAAPh/7k1aLeuq4b+85Bwqgi/hvxF/tedU0eG/\",\"dtype\":\"float64\",\"order\":\"little\",\"shape\":[6]},{\"__ndarray__\":\"NuBtzMBv37900bPvF1LevwAAAAAAAPh/zE4slnAZ3r900bPvF1Levyb1Rk8RDN+/\",\"dtype\":\"float64\",\"order\":\"little\",\"shape\":[6]},{\"__ndarray__\":\"I3YF48Af2r9MI4Xo9lrWvwAAAAAAAPh/sfkIUJif179MI4Xo9lrWv3NUq7R6Qte/\",\"dtype\":\"float64\",\"order\":\"little\",\"shape\":[6]},{\"__ndarray__\":\"JiFJ3JX30r++J5eWLxjQvwAAAAAAAPh/RXjK4qFF0b++J5eWLxjQv2D8co0gmNC/\",\"dtype\":\"float64\",\"order\":\"little\",\"shape\":[6]},{\"__ndarray__\":\"Emjtb7KRzL/35TUVl2LCvwAAAAAAAPh/QkORDLLkxL/35TUVl2LCv89sNKa2bMS/\",\"dtype\":\"float64\",\"order\":\"little\",\"shape\":[6]},{\"__ndarray__\":\"Emjtb7KRzL8GhRTfh6/TvwAAAAAAAPh//xsWNznY0r8GhRTfh6/Tv5SThG96a9K/\",\"dtype\":\"float64\",\"order\":\"little\",\"shape\":[6]},{\"__ndarray__\":\"UICF+QLF1b/Izg1k2arVvwAAAAAAAPh/zLhMzj8v1r/Izg1k2arVv5psJTHfNtW/\",\"dtype\":\"float64\",\"order\":\"little\",\"shape\":[6]},{\"__ndarray__\":\"QvAH0ER607+RYim1ThbQvwAAAAAAAPh/kbdOVv1Z0b+RYim1ThbQv7gH1g3UDNG/\",\"dtype\":\"float64\",\"order\":\"little\",\"shape\":[6]},{\"__ndarray__\":\"TeFj2Fpayb+Z2vlq0p/EvwAAAAAAAPh/F+X2i6xPxb+Z2vlq0p/Ev6Otfkgf1sa/\",\"dtype\":\"float64\",\"order\":\"little\",\"shape\":[6]},{\"__ndarray__\":\"idViym6Swb/35TUVl2LCvwAAAAAAAPh//v8t3AQ2wb/35TUVl2LCv13KP9UCJcO/\",\"dtype\":\"float64\",\"order\":\"little\",\"shape\":[6]},{\"__ndarray__\":\"K//NwRF/s7/zRGmjPHy5vwAAAAAAAPh/aKke5eTuub/zRGmjPHy5vzyvNbKrOra/\",\"dtype\":\"float64\",\"order\":\"little\",\"shape\":[6]},{\"__ndarray__\":\"K//NwRF/s79mJv+CUwN1PwAAAAAAAPh/ORxMWeWeib9mJv+CUwN1P/vbH3OrG4y/\",\"dtype\":\"float64\",\"order\":\"little\",\"shape\":[6]},{\"__ndarray__\":\"BsOo36I0t7910xJkX+KvvwAAAAAAAPh/I4EDcIPis7910xJkX+Kvv8n2kscoebC/\",\"dtype\":\"float64\",\"order\":\"little\",\"shape\":[6]},{\"__ndarray__\":\"t3VDDTgriL/ayrCy6kKmPwAAAAAAAPh/OMM+WeY2mz/ayrCy6kKmP5aYYagBzJg/\",\"dtype\":\"float64\",\"order\":\"little\",\"shape\":[6]},{\"__ndarray__\":\"puBVSrW3tT/JEWhQZOW4PwAAAAAAAPh/ydgoZlfNuT/JEWhQZOW4P8D6MLzxAbY/\",\"dtype\":\"float64\",\"order\":\"little\",\"shape\":[6]},{\"__ndarray__\":\"kXGdd9fNsz9mJv+CUwN1PwAAAAAAAPh/PELHW9XAmD9mJv+CUwN1PybB/CJsJ44/\",\"dtype\":\"float64\",\"order\":\"little\",\"shape\":[6]},{\"__ndarray__\":\"HSLzR0clpj8e8ViiYyG4PwAAAAAAAPh/NWBRQT5ptT8e8ViiYyG4PzHbl5UBLrM/\",\"dtype\":\"float64\",\"order\":\"little\",\"shape\":[6]},{\"__ndarray__\":\"JRVGb0hbwz81VOiJ6jXLPwAAAAAAAPh/bY8DxKQjyT81VOiJ6jXLPx8bW28Ftsg/\",\"dtype\":\"float64\",\"order\":\"little\",\"shape\":[6]},{\"__ndarray__\":\"WCD0T1fE0T9q7izWaJbRPwAAAAAAAPh/qEIHVx4k0T9q7izWaJbRP4E6RUx0HNI/\",\"dtype\":\"float64\",\"order\":\"little\",\"shape\":[6]},{\"__ndarray__\":\"WCD0T1fE0T/vh1sQaMbVPwAAAAAAAPh/yZwYJGk31T/vh1sQaMbVPyFdj2s0k9Q/\",\"dtype\":\"float64\",\"order\":\"little\",\"shape\":[6]},{\"__ndarray__\":\"UpGhGl+60z/Vivk+ie3WPwAAAAAAAPh/0lFKrRSs1T/Vivk+ie3WP0VIVN9RKtY/\",\"dtype\":\"float64\",\"order\":\"little\",\"shape\":[6]},{\"__ndarray__\":\"SmxxErV52j97/kI5iCjdPwAAAAAAAPh/IFZgTI2Y3D97/kI5iCjdP7bNIzD69Ns/\",\"dtype\":\"float64\",\"order\":\"little\",\"shape\":[6]},{\"__ndarray__\":\"k0K+g0w53j8xXn3XFXLdPwAAAAAAAPh/Ji4KjOcp3j8xXn3XFXLdPzcOsBvaNt0/\",\"dtype\":\"float64\",\"order\":\"little\",\"shape\":[6]},{\"__ndarray__\":\"+a7RKq7u2j/vh1sQaMbVPwAAAAAAAPh/y/SKOSsI1z/vh1sQaMbVP1z4y71vyNY/\",\"dtype\":\"float64\",\"order\":\"little\",\"shape\":[6]},{\"__ndarray__\":\"KETD7gLo1j81ltZCx3vTPwAAAAAAAPh/foP6Eue01D81ltZCx3vTPxfZafyVHNQ/\",\"dtype\":\"float64\",\"order\":\"little\",\"shape\":[6]},{\"__ndarray__\":\"KETD7gLo1j9qsv5sBgbbPwAAAAAAAPh/K61ib7V/2j9qsv5sBgbbP+3Ni7AP1tk/\",\"dtype\":\"float64\",\"order\":\"little\",\"shape\":[6]},{\"__ndarray__\":\"+TMmeQvL0j/NH7suOl7TPwAAAAAAAPh/y1/ykKyr0z/NH7suOl7TP0nWpboPttI/\",\"dtype\":\"float64\",\"order\":\"little\",\"shape\":[6]},{\"__ndarray__\":\"SFvA3aYb1T/X0IpaQP7XPwAAAAAAAPh/7AR5EVZc1z/X0IpaQP7XP2iT7OLKxNY/\",\"dtype\":\"float64\",\"order\":\"little\",\"shape\":[6]},{\"__ndarray__\":\"cd4/zTWR2z8K3nhrU07ePwAAAAAAAPh/dwupOR8Z3T8K3nhrU07eP62HLWiiud0/\",\"dtype\":\"float64\",\"order\":\"little\",\"shape\":[6]},{\"__ndarray__\":\"PHly0d5N3j9qsv5sBgbbPwAAAAAAAPh/FWte8AYs2z9qsv5sBgbbP8MQEg/gBNw/\",\"dtype\":\"float64\",\"order\":\"little\",\"shape\":[6]},{\"__ndarray__\":\"rUPgqLJy3j8k/1pBkxThPwAAAAAAAPh/dfpt5sR54D8k/1pBkxThP7xW4UKXhOA/\",\"dtype\":\"float64\",\"order\":\"little\",\"shape\":[6]},{\"__ndarray__\":\"Zlsc0yfi4j+Y/6i4jp/kPwAAAAAAAPh/m67NAIQN5D+Y/6i4jp/kP0zt69AwBuQ/\",\"dtype\":\"float64\",\"order\":\"little\",\"shape\":[6]},{\"__ndarray__\":\"S/T7juRQ5j+Qnx7nwfnnPwAAAAAAAPh/2ua/Ghdr5z+Qnx7nwfnnP72yL2khXuc/\",\"dtype\":\"float64\",\"order\":\"little\",\"shape\":[6]},{\"__ndarray__\":\"zxHHoIqc6T/W8RhJkTrrPwAAAAAAAPh/zD21fP2t6j/W8RhJkTrrPxrDwmPHneo/\",\"dtype\":\"float64\",\"order\":\"little\",\"shape\":[6]},{\"__ndarray__\":\"MMkPDUHV7D+yawLDzGvuPwAAAAAAAPh/1/OkWF7f7T+yawLDzGvuP3vcH5vvzu0/\",\"dtype\":\"float64\",\"order\":\"little\",\"shape\":[6]},{\"__ndarray__\":\"MMkPDUHV7D/rGVxmFGvuPwAAAAAAAPh/HF77oKrf7T/rGVxmFGvuP41OcRq2ze0/\",\"dtype\":\"float64\",\"order\":\"little\",\"shape\":[6]}],\"ys\":[{\"__ndarray__\":\"maFQDaLY0r+245HIT8nNvwAAAAAAAPh/yGzyBCK4z7+245HIT8nNv/H7zM86KNC/\",\"dtype\":\"float64\",\"order\":\"little\",\"shape\":[6]},{\"__ndarray__\":\"5fbnIWprwb+e6nz89VTIvwAAAAAAAPh/LdnxK8/Zxr+e6nz89VTIvxgT10ko1MW/\",\"dtype\":\"float64\",\"order\":\"little\",\"shape\":[6]},{\"__ndarray__\":\"msu1ViaoyL8sPK9Y+MrPvwAAAAAAAPh/1Mx9SKxHzb8sPK9Y+MrPv4ppSEJMQs6/\",\"dtype\":\"float64\",\"order\":\"little\",\"shape\":[6]},{\"__ndarray__\":\"xLbqFYWTwT9p2VXXB2zCPwAAAAAAAPh/Itcyy04nwT9p2VXXB2zCP87YuPj8E8M/\",\"dtype\":\"float64\",\"order\":\"little\",\"shape\":[6]},{\"__ndarray__\":\"said3eSw2T+yMUv4STfZPwAAAAAAAPh/oaWlqqPj2D+yMUv4STfZP4qlhP/x2dk/\",\"dtype\":\"float64\",\"order\":\"little\",\"shape\":[6]},{\"__ndarray__\":\"7E0RsRXf1j99K70Nf4nTPwAAAAAAAPh/N/vUJpVf1D99K70Nf4nTP5ZkhlZyzdQ/\",\"dtype\":\"float64\",\"order\":\"little\",\"shape\":[6]},{\"__ndarray__\":\"VvwR7apzyT+xYAgu1jLLPwAAAAAAAPh/uIr0sJWkyT+xYAgu1jLLPzs9RwLWg8s/\",\"dtype\":\"float64\",\"order\":\"little\",\"shape\":[6]},{\"__ndarray__\":\"kQHNJplOkT+OPbEEoKx4PwAAAAAAAPh/HChhSjU4WT+OPbEEoKx4P6YAmX5y5ZA/\",\"dtype\":\"float64\",\"order\":\"little\",\"shape\":[6]},{\"__ndarray__\":\"iUXH6c1rxr+P8xrCWr6/vwAAAAAAAPh/1ilzdadUwr+P8xrCWr6/v66lJSK/K8G/\",\"dtype\":\"float64\",\"order\":\"little\",\"shape\":[6]},{\"__ndarray__\":\"m2OfRWtl0L8pI8syrJrUvwAAAAAAAPh/vBQTLSGC078pI8syrJrUv+r4lCvIYNO/\",\"dtype\":\"float64\",\"order\":\"little\",\"shape\":[6]},{\"__ndarray__\":\"6fK9vA2Szz9kGUBSdevHPwAAAAAAAPh/GhfIjNJhyj9kGUBSdevHP19ZA0M4F8o/\",\"dtype\":\"float64\",\"order\":\"little\",\"shape\":[6]},{\"__ndarray__\":\"64d3e3jy17/65tscrofZvwAAAAAAAPh/K4NCLkRz2b/65tscrofZv6P1+JAklNi/\",\"dtype\":\"float64\",\"order\":\"little\",\"shape\":[6]},{\"__ndarray__\":\"WuXYNvg0uL9SXcaqGmbDvwAAAAAAAPh/Pk88NjG7wb9SXcaqGmbDv/m+B6NQ3sC/\",\"dtype\":\"float64\",\"order\":\"little\",\"shape\":[6]},{\"__ndarray__\":\"WzOuDpT2cD+FId1xXJ+yPwAAAAAAAPh/IhwoLC8zqz+FId1xXJ+yP6A3224mI60/\",\"dtype\":\"float64\",\"order\":\"little\",\"shape\":[6]},{\"__ndarray__\":\"RTGr0NGlwj+GURfc5LOzPwAAAAAAAPh/1yp8jtEpuD+GURfc5LOzP9xAcQGPkLg/\",\"dtype\":\"float64\",\"order\":\"little\",\"shape\":[6]},{\"__ndarray__\":\"40Jz8CBZwz/9EsentXHEPwAAAAAAAPh/ifLp4yAWwz/9EsentXHEP2/P3lK4/8Q/\",\"dtype\":\"float64\",\"order\":\"little\",\"shape\":[6]},{\"__ndarray__\":\"jOAPVb6g079d4G4g7nrWvwAAAAAAAPh/98exyq3Y1b9d4G4g7nrWv/AMzN9eQdW/\",\"dtype\":\"float64\",\"order\":\"little\",\"shape\":[6]},{\"__ndarray__\":\"EOtIo32W178D3ms4unrWvwAAAAAAAPh/z5Z7LZVN178D3ms4unrWv0xP8UlHYda/\",\"dtype\":\"float64\",\"order\":\"little\",\"shape\":[6]},{\"__ndarray__\":\"FeEf18Huxb8YS+JS0EHHvwAAAAAAAPh/BPaTbn3cx78YS+JS0EHHv2REImZK8cW/\",\"dtype\":\"float64\",\"order\":\"little\",\"shape\":[6]},{\"__ndarray__\":\"lxkdcu3lyT8pxKv4JUzJPwAAAAAAAPh/J0XFNxyHyD8pxKv4JUzJP+781aRIdso/\",\"dtype\":\"float64\",\"order\":\"little\",\"shape\":[6]},{\"__ndarray__\":\"hvVk805o0j/54isYTLzMPwAAAAAAAPh/Rcg+fkQUzz/54isYTLzMP/eXhXYMFM8/\",\"dtype\":\"float64\",\"order\":\"little\",\"shape\":[6]},{\"__ndarray__\":\"JoRvRbLmvz/XVHKWjbnAPwAAAAAAAPh/pFMVS6P4vj/XVHKWjbnAP56fhkjRacE/\",\"dtype\":\"float64\",\"order\":\"little\",\"shape\":[6]},{\"__ndarray__\":\"XMRN0pqoqb+HLpgPUR2qvwAAAAAAAPh/TuTZZEDerb+HLpgPUR2qv+EX83GsGqa/\",\"dtype\":\"float64\",\"order\":\"little\",\"shape\":[6]},{\"__ndarray__\":\"Fet4mMZs1D8jWp50p7nUPwAAAAAAAPh/YHP9Bb4k1D8jWp50p7nUPyCDtR9XHNU/\",\"dtype\":\"float64\",\"order\":\"little\",\"shape\":[6]},{\"__ndarray__\":\"cIIyAbOpsj9LUjJUa32jPwAAAAAAAPh/A+76aGzdqz9LUjJUa32jP1v3/UAHXaU/\",\"dtype\":\"float64\",\"order\":\"little\",\"shape\":[6]},{\"__ndarray__\":\"peQXz/Z5079V7Fq9JRbPvwAAAAAAAPh/ATXsK6LP0L9V7Fq9JRbPv/IO5TzAddC/\",\"dtype\":\"float64\",\"order\":\"little\",\"shape\":[6]},{\"__ndarray__\":\"iie10lsbzL8CCg+cbG3LvwAAAAAAAPh/njX85PGdzL8CCg+cbG3Lv0WAUExEr8q/\",\"dtype\":\"float64\",\"order\":\"little\",\"shape\":[6]},{\"__ndarray__\":\"Zz+SWbYDu79+N6OX1sevvwAAAAAAAPh/PkvrSdyFtL9+N6OX1sevv0dBU/N0tLG/\",\"dtype\":\"float64\",\"order\":\"little\",\"shape\":[6]},{\"__ndarray__\":\"4xKGp4sxvL8H7z3EbqS/vwAAAAAAAPh/7JHvtB80wL8H7z3EbqS/v+dOxsIqo7y/\",\"dtype\":\"float64\",\"order\":\"little\",\"shape\":[6]},{\"__ndarray__\":\"KaV6L9hUvT+8Y/SDMIK+PwAAAAAAAPh/tuG+VDgrvD+8Y/SDMIK+PzbZqiavBMA/\",\"dtype\":\"float64\",\"order\":\"little\",\"shape\":[6]},{\"__ndarray__\":\"xMqeRw68xr/SeaCyvKG/vwAAAAAAAPh/s3B1xkpXwr/SeaCyvKG/vzLQjWoDxcG/\",\"dtype\":\"float64\",\"order\":\"little\",\"shape\":[6]},{\"__ndarray__\":\"It/cQROE0z+DHMgDOX3XPwAAAAAAAPh/TWdcDgxe1j+DHMgDOX3XP7v60NAZR9Y/\",\"dtype\":\"float64\",\"order\":\"little\",\"shape\":[6]},{\"__ndarray__\":\"C6mX9wpivD+68O3bY4K8PwAAAAAAAPh/+AEPgvWGuj+68O3bY4K8P4s+oJLNaL4/\",\"dtype\":\"float64\",\"order\":\"little\",\"shape\":[6]},{\"__ndarray__\":\"YwqJLaz4sL9057l+R6iRvwAAAAAAAPh/CauHiilwm79057l+R6iRv5COx9tlkqK/\",\"dtype\":\"float64\",\"order\":\"little\",\"shape\":[6]},{\"__ndarray__\":\"83FPYtk+vT/IYwRYGVXGPwAAAAAAAPh/EfkiNm8yxD/IYwRYGVXGPwCUPaLU2sM/\",\"dtype\":\"float64\",\"order\":\"little\",\"shape\":[6]},{\"__ndarray__\":\"/CAaXJgBwT+/RqoxeK69PwAAAAAAAPh/HCJz7lE+vT+/RqoxeK69PwWa/nH7eMA/\",\"dtype\":\"float64\",\"order\":\"little\",\"shape\":[6]},{\"__ndarray__\":\"OWw/lCPZzT/RqsIgVTTSPwAAAAAAAPh/hdr3TCfx0D/RqsIgVTTSPwRDngaVZdE/\",\"dtype\":\"float64\",\"order\":\"little\",\"shape\":[6]},{\"__ndarray__\":\"gh84QAhFwz8BIMp3e0jEPwAAAAAAAPh/VeEjIRv0wj8BIMp3e0jEPwQ2sgfF3sQ/\",\"dtype\":\"float64\",\"order\":\"little\",\"shape\":[6]},{\"__ndarray__\":\"qb3scJGStr8T7TN4xmGwvwAAAAAAAPh/dQXGJQMAtL8T7TN4xmGwv748SAknbbC/\",\"dtype\":\"float64\",\"order\":\"little\",\"shape\":[6]},{\"__ndarray__\":\"p3bXNfU2jr8jFXAOh92xvwAAAAAAAPh/RYAlF8pmq78jFXAOh92xv357ZbTYvqm/\",\"dtype\":\"float64\",\"order\":\"little\",\"shape\":[6]},{\"__ndarray__\":\"moQVKPH42L9WYFZTpYTWvwAAAAAAAPh/rZyK6a2r179WYFZTpYTWv0ReSTx89da/\",\"dtype\":\"float64\",\"order\":\"little\",\"shape\":[6]},{\"__ndarray__\":\"v/H3Y4Y0kr/+AtN5u/6pvwAAAAAAAPh/9EXFNSRVqL/+AtN5u/6pv4YpZhgqvqG/\",\"dtype\":\"float64\",\"order\":\"little\",\"shape\":[6]},{\"__ndarray__\":\"JzQP58XYyj+XGR1y7eXJPwAAAAAAAPh/+CWVjf5CyT+XGR1y7eXJPzBGuqojL8s/\",\"dtype\":\"float64\",\"order\":\"little\",\"shape\":[6]},{\"__ndarray__\":\"KcSr+CVMyT9W/BHtqnPJPwAAAAAAAPh/t5dPiYluyD9W/BHtqnPJP0AoNN1dX8o/\",\"dtype\":\"float64\",\"order\":\"little\",\"shape\":[6]},{\"__ndarray__\":\"sWAILtYyyz9FMavQ0aXCPwAAAAAAAPh/7lA/FLTGwz9FMavQ0aXCPz9ceytCDcU/\",\"dtype\":\"float64\",\"order\":\"little\",\"shape\":[6]},{\"__ndarray__\":\"sWAILtYyyz8i39xBE4TTPwAAAAAAAPh/v2Bg4qLH0j8i39xBE4TTP8rzT9bmQ9I/\",\"dtype\":\"float64\",\"order\":\"little\",\"shape\":[6]},{\"__ndarray__\":\"gxzIAzl91z+xqJ3d5LDZPwAAAAAAAPh/b5P46kOW2D+xqJ3d5LDZP633RNf9Wdk/\",\"dtype\":\"float64\",\"order\":\"little\",\"shape\":[6]},{\"__ndarray__\":\"sjFL+Ek32T/sTRGxFd/WPwAAAAAAAPh/kcoCRUBA1z/sTRGxFd/WP1vOYUPT/tc/\",\"dtype\":\"float64\",\"order\":\"little\",\"shape\":[6]},{\"__ndarray__\":\"fSu9DX+J0z/p8r28DZLPPwAAAAAAAPh/YJ0W8j3g0D/p8r28DZLPP76+CYKTA9E/\",\"dtype\":\"float64\",\"order\":\"little\",\"shape\":[6]},{\"__ndarray__\":\"ZBlAUnXrxz9FMavQ0aXCPwAAAAAAAPh/XjWTwW/sxD9FMavQ0aXCPxLJITAmd8M/\",\"dtype\":\"float64\",\"order\":\"little\",\"shape\":[6]},{\"__ndarray__\":\"hlEX3OSzsz+RAc0mmU6RPwAAAAAAAPh/Je84QZFVmT+RAc0mmU6RP4xnhSJ3FKI/\",\"dtype\":\"float64\",\"order\":\"little\",\"shape\":[6]},{\"__ndarray__\":\"hlEX3OSzsz9wgjIBs6myPwAAAAAAAPh/1vyrglnQtD9wgjIBs6myP61/baB777A/\",\"dtype\":\"float64\",\"order\":\"little\",\"shape\":[6]},{\"__ndarray__\":\"S1IyVGt9oz+ndtc19TaOvwAAAAAAAPh/mkeqiBq3dD+ndtc19TaOvxjyccpAw1C/\",\"dtype\":\"float64\",\"order\":\"little\",\"shape\":[6]},{\"__ndarray__\":\"IxVwDofdsb/jEoanizG8vwAAAAAAAPh/jCECoZ8sur/jEoanizG8v3yLt6Svebe/\",\"dtype\":\"float64\",\"order\":\"little\",\"shape\":[6]},{\"__ndarray__\":\"B+89xG6kv79nP5JZtgO7vwAAAAAAAPh/PPziUEBPvr9nP5JZtgO7v3TFkyMSnrq/\",\"dtype\":\"float64\",\"order\":\"little\",\"shape\":[6]},{\"__ndarray__\":\"fjejl9bHr7+RAc0mmU6RPwAAAAAAAPh/4LxXs8xfZb+RAc0mmU6RP+BYGMG6okU/\",\"dtype\":\"float64\",\"order\":\"little\",\"shape\":[6]},{\"__ndarray__\":\"jj2xBKCseD+/8fdjhjSSvwAAAAAAAPh/2zakFgVhkr+/8fdjhjSSv9g35RW02W+/\",\"dtype\":\"float64\",\"order\":\"little\",\"shape\":[6]},{\"__ndarray__\":\"/gLTebv+qb9a5dg2+DS4vwAAAAAAAPh/DIvTxO1Str9a5dg2+DS4v1rf9vF+i7O/\",\"dtype\":\"float64\",\"order\":\"little\",\"shape\":[6]},{\"__ndarray__\":\"Ul3Gqhpmw78V4R/Xwe7FvwAAAAAAAPh/fufUswtPxr8V4R/Xwe7Fv1uNe3HObMS/\",\"dtype\":\"float64\",\"order\":\"little\",\"shape\":[6]},{\"__ndarray__\":\"Ul3Gqhpmw7+ay7VWJqjIvwAAAAAAAPh/XF7uljTCxr+ay7VWJqjIv8ZqyZEGgci/\",\"dtype\":\"float64\",\"order\":\"little\",\"shape\":[6]},{\"__ndarray__\":\"LDyvWPjKz7+M4A9VvqDTvwAAAAAAAPh/tK+molN40r+M4A9VvqDTv4YEJzGGcdK/\",\"dtype\":\"float64\",\"order\":\"little\",\"shape\":[6]},{\"__ndarray__\":\"XeBuIO561r8Q60ijfZbXvwAAAAAAAPh/s70XGnGv178Q60ijfZbXv33HoIdBw9a/\",\"dtype\":\"float64\",\"order\":\"little\",\"shape\":[6]},{\"__ndarray__\":\"A95rOLp61r+l5BfP9nnTvwAAAAAAAPh/Aa9pCnmy1L+l5BfP9nnTv2IgD57EGNS/\",\"dtype\":\"float64\",\"order\":\"little\",\"shape\":[6]},{\"__ndarray__\":\"VexavSUWz78V4R/Xwe7FvwAAAAAAAPh/XkV78kcuyL8V4R/Xwe7FvzNeePs/Wsi/\",\"dtype\":\"float64\",\"order\":\"little\",\"shape\":[6]},{\"__ndarray__\":\"GEviUtBBx7+bY59Fa2XQvwAAAAAAAPh/5QSx0RZEzr+bY59Fa2XQv7G3oeT62M6/\",\"dtype\":\"float64\",\"order\":\"little\",\"shape\":[6]},{\"__ndarray__\":\"GEviUtBBx7+JRcfpzWvGvwAAAAAAAPh/RZlxhISTx7+JRcfpzWvGv/W7wzwspMW/\",\"dtype\":\"float64\",\"order\":\"little\",\"shape\":[6]},{\"__ndarray__\":\"KSPLMqya1L/rh3d7ePLXvwAAAAAAAPh/5tKeajYm17/rh3d7ePLXv9/QGeScr9a/\",\"dtype\":\"float64\",\"order\":\"little\",\"shape\":[6]},{\"__ndarray__\":\"+ubbHK6H2b+ahBUo8fjYvwAAAAAAAPh/AP59wlqi2b+ahBUo8fjYv6JZzc3prNi/\",\"dtype\":\"float64\",\"order\":\"little\",\"shape\":[6]},{\"__ndarray__\":\"VmBWU6WE1r+ZoVANotjSvwAAAAAAAPh/jGdJ+g0Y1L+ZoVANotjSv/Kjol+A49O/\",\"dtype\":\"float64\",\"order\":\"little\",\"shape\":[6]},{\"__ndarray__\":\"tuORyE/Jzb+JRcfpzWvGvwAAAAAAAPh//bwegzsfx7+JRcfpzWvGvxh/DPvpo8i/\",\"dtype\":\"float64\",\"order\":\"little\",\"shape\":[6]},{\"__ndarray__\":\"j/Mawlq+v7+pvexwkZK2vwAAAAAAAPh/H2MNucXaur+pvexwkZK2v2R0nLZzrbe/\",\"dtype\":\"float64\",\"order\":\"little\",\"shape\":[6]},{\"__ndarray__\":\"E+0zeMZhsL9cxE3SmqipvwAAAAAAAPh/GOnPlE6Dr79cxE3Smqipv4jQVI6C8Ke/\",\"dtype\":\"float64\",\"order\":\"little\",\"shape\":[6]},{\"__ndarray__\":\"hy6YD1Edqr/l9uchamvBvwAAAAAAAPh/oEsQt2QXvr/l9uchamvBv4tsUl4fOL6/\",\"dtype\":\"float64\",\"order\":\"little\",\"shape\":[6]},{\"__ndarray__\":\"hy6YD1Edqr9bM64OlPZwPwAAAAAAAPh/ggIgezXzi79bM64OlPZwP7ATtWipj2K/\",\"dtype\":\"float64\",\"order\":\"little\",\"shape\":[6]},{\"__ndarray__\":\"nup8/PVUyL+KJ7XSWxvMvwAAAAAAAPh/idkgY5rAy7+KJ7XSWxvMv2lbJwmUFMq/\",\"dtype\":\"float64\",\"order\":\"little\",\"shape\":[6]},{\"__ndarray__\":\"AgoPnGxty7/Eyp5HDrzGvwAAAAAAAPh/glI/6f0Byb/Eyp5HDrzGv4GwG5Hti8e/\",\"dtype\":\"float64\",\"order\":\"little\",\"shape\":[6]},{\"__ndarray__\":\"0nmgsryhv79jCoktrPiwvwAAAAAAAPh/FuCiBwYntb9jCoktrPiwv8BYPLFx9bW/\",\"dtype\":\"float64\",\"order\":\"little\",\"shape\":[6]},{\"__ndarray__\":\"dOe5fkeokb9bM64OlPZwPwAAAAAAAPh/PB1EM/+/ez9bM64OlPZwP+QHy4ANJYC/\",\"dtype\":\"float64\",\"order\":\"little\",\"shape\":[6]},{\"__ndarray__\":\"hSHdcVyfsj/zcU9i2T69PwAAAAAAAPh/3uNmSwTouz/zcU9i2T69P5gWkefH1rg/\",\"dtype\":\"float64\",\"order\":\"little\",\"shape\":[6]},{\"__ndarray__\":\"hSHdcVyfsj/8IBpcmAHBPwAAAAAAAPh/eI67D/pkvT/8IBpcmAHBP3QI6lOSHcA/\",\"dtype\":\"float64\",\"order\":\"little\",\"shape\":[6]},{\"__ndarray__\":\"yGMEWBlVxj85bD+UI9nNPwAAAAAAAPh/3bPTvZliyz85bD+UI9nNP1VC3TDBrcs/\",\"dtype\":\"float64\",\"order\":\"little\",\"shape\":[6]},{\"__ndarray__\":\"0arCIFU00j8V63iYxmzUPwAAAAAAAPh/Ze0kp2RT0z8V63iYxmzUP7OmJK9MGNQ/\",\"dtype\":\"float64\",\"order\":\"little\",\"shape\":[6]},{\"__ndarray__\":\"I1qedKe51D+G9WTzTmjSPwAAAAAAAPh/k7h/FjvL0j+G9WTzTmjSP2CyqbPliNM/\",\"dtype\":\"float64\",\"order\":\"little\",\"shape\":[6]},{\"__ndarray__\":\"+eIrGEy8zD/8IBpcmAHBPwAAAAAAAPh/e+PEiWqGwz/8IBpcmAHBP9khRTzPk8I/\",\"dtype\":\"float64\",\"order\":\"little\",\"shape\":[6]},{\"__ndarray__\":\"v0aqMXiuvT8LqZf3CmK8PwAAAAAAAPh/WQqplH7buj8LqZf3CmK8P05OD02Zub4/\",\"dtype\":\"float64\",\"order\":\"little\",\"shape\":[6]},{\"__ndarray__\":\"uvDt22OCvD8ppXov2FS9PwAAAAAAAPh/4vgbLggeuz8ppXov2FS9PwJB/l8v/r4/\",\"dtype\":\"float64\",\"order\":\"little\",\"shape\":[6]},{\"__ndarray__\":\"vGP0gzCCvj8mhG9Fsua/PwAAAAAAAPh/fvAX8lB7vT8mhG9Fsua/P44ZllDjq8A/\",\"dtype\":\"float64\",\"order\":\"little\",\"shape\":[6]},{\"__ndarray__\":\"11Rylo25wD/EtuoVhZPBPwAAAAAAAPh/P5RxDeZOwD/EtuoVhZPBP/YnhjuXO8I/\",\"dtype\":\"float64\",\"order\":\"little\",\"shape\":[6]},{\"__ndarray__\":\"adlV1wdswj+CHzhACEXDPwAAAAAAAPh/W1hBvGb/wT+CHzhACEXDP35sZuP568M/\",\"dtype\":\"float64\",\"order\":\"little\",\"shape\":[6]},{\"__ndarray__\":\"adlV1wdswj/jQnPwIFnDPwAAAAAAAPh/5PrAUJIMwj/jQnPwIFnDP8yL+ZVL+MM/\",\"dtype\":\"float64\",\"order\":\"little\",\"shape\":[6]}]},\"selected\":{\"id\":\"1089\"},\"selection_policy\":{\"id\":\"1088\"}},\"id\":\"1041\",\"type\":\"ColumnDataSource\"},{\"attributes\":{\"axis\":{\"id\":\"1016\"},\"coordinates\":null,\"grid_line_color\":null,\"group\":null,\"ticker\":null},\"id\":\"1019\",\"type\":\"Grid\"},{\"attributes\":{},\"id\":\"1088\",\"type\":\"UnionRenderers\"},{\"attributes\":{\"line_color\":{\"value\":\"limegreen\"},\"line_width\":{\"value\":2}},\"id\":\"1051\",\"type\":\"MultiLine\"},{\"attributes\":{\"callback\":null,\"renderers\":[{\"id\":\"1055\"}],\"tooltips\":[[\"index\",\"@{index_hover}\"],[\"desc\",\"@{desc}\"],[\"type\",\"@{type}\"]]},\"id\":\"1006\",\"type\":\"HoverTool\"},{\"attributes\":{\"high\":85,\"low\":0,\"palette\":[\"#f7fbff\",\"#f6fafe\",\"#f5f9fe\",\"#f4f9fe\",\"#f3f8fd\",\"#f3f8fd\",\"#f2f7fd\",\"#f1f7fd\",\"#f0f6fc\",\"#eff6fc\",\"#eff5fc\",\"#eef5fc\",\"#edf4fb\",\"#ecf4fb\",\"#ecf3fb\",\"#ebf3fb\",\"#eaf2fa\",\"#e9f2fa\",\"#e8f1fa\",\"#e8f1fa\",\"#e7f0f9\",\"#e6f0f9\",\"#e5eff9\",\"#e4eff9\",\"#e4eef8\",\"#e3eef8\",\"#e2edf8\",\"#e1edf8\",\"#e1ecf7\",\"#e0ecf7\",\"#dfebf7\",\"#deebf7\",\"#ddeaf6\",\"#ddeaf6\",\"#dce9f6\",\"#dbe9f6\",\"#dae8f5\",\"#dae8f5\",\"#d9e7f5\",\"#d8e7f5\",\"#d7e6f4\",\"#d7e6f4\",\"#d6e5f4\",\"#d5e5f4\",\"#d4e4f3\",\"#d4e4f3\",\"#d3e3f3\",\"#d2e3f3\",\"#d1e2f2\",\"#d1e2f2\",\"#d0e1f2\",\"#cfe1f2\",\"#cee0f1\",\"#cee0f1\",\"#cddff1\",\"#ccdff1\",\"#cbdef0\",\"#cbdef0\",\"#caddf0\",\"#c9ddf0\",\"#c8dcef\",\"#c8dcef\",\"#c7dbef\",\"#c6dbef\",\"#c5daee\",\"#c4daee\",\"#c3d9ee\",\"#c1d9ed\",\"#c0d8ed\",\"#bfd8ec\",\"#bed7ec\",\"#bcd7eb\",\"#bbd6eb\",\"#bad6ea\",\"#b9d5ea\",\"#b7d4ea\",\"#b6d4e9\",\"#b5d3e9\",\"#b4d3e8\",\"#b2d2e8\",\"#b1d2e7\",\"#b0d1e7\",\"#afd1e6\",\"#add0e6\",\"#acd0e6\",\"#abcfe5\",\"#aacfe5\",\"#a8cee4\",\"#a7cee4\",\"#a6cde3\",\"#a5cde3\",\"#a3cce3\",\"#a2cbe2\",\"#a1cbe2\",\"#a0cae1\",\"#9ecae1\",\"#9dc9e0\",\"#9bc8e0\",\"#9ac7e0\",\"#98c7df\",\"#97c6df\",\"#95c5df\",\"#93c4de\",\"#92c3de\",\"#90c2de\",\"#8fc1dd\",\"#8dc0dd\",\"#8bc0dd\",\"#8abfdc\",\"#88bedc\",\"#87bddc\",\"#85bcdb\",\"#83bbdb\",\"#82badb\",\"#80b9da\",\"#7fb8da\",\"#7db8d9\",\"#7bb7d9\",\"#7ab6d9\",\"#78b5d8\",\"#77b4d8\",\"#75b3d8\",\"#73b2d7\",\"#72b1d7\",\"#70b1d7\",\"#6fb0d6\",\"#6dafd6\",\"#6baed6\",\"#6aadd5\",\"#69acd5\",\"#67abd4\",\"#66aad4\",\"#65aad3\",\"#63a9d3\",\"#62a8d2\",\"#61a7d2\",\"#60a6d1\",\"#5ea5d1\",\"#5da4d0\",\"#5ca3d0\",\"#5aa3cf\",\"#59a2cf\",\"#58a1ce\",\"#57a0ce\",\"#559fcd\",\"#549ecd\",\"#539dcc\",\"#519ccc\",\"#509bcb\",\"#4f9bcb\",\"#4e9aca\",\"#4c99ca\",\"#4b98c9\",\"#4a97c9\",\"#4896c8\",\"#4795c8\",\"#4694c7\",\"#4594c7\",\"#4393c6\",\"#4292c6\",\"#4191c5\",\"#4090c5\",\"#3f8fc4\",\"#3e8ec4\",\"#3d8dc3\",\"#3c8cc3\",\"#3b8bc2\",\"#3a8ac1\",\"#3989c1\",\"#3888c0\",\"#3787c0\",\"#3585bf\",\"#3484bf\",\"#3383be\",\"#3282be\",\"#3181bd\",\"#3080bd\",\"#2f7fbc\",\"#2e7ebc\",\"#2d7dbb\",\"#2c7cbb\",\"#2b7bba\",\"#2a7ab9\",\"#2979b9\",\"#2878b8\",\"#2777b8\",\"#2676b7\",\"#2575b7\",\"#2474b6\",\"#2373b6\",\"#2272b5\",\"#2171b5\",\"#2070b4\",\"#1f6fb3\",\"#1e6eb2\",\"#1e6db2\",\"#1d6cb1\",\"#1c6bb0\",\"#1b6aaf\",\"#1a69ae\",\"#1a68ae\",\"#1967ad\",\"#1866ac\",\"#1765ab\",\"#1764ab\",\"#1663aa\",\"#1562a9\",\"#1461a8\",\"#1360a7\",\"#135fa7\",\"#125ea6\",\"#115da5\",\"#105ca4\",\"#0f5ba3\",\"#0f5aa3\",\"#0e59a2\",\"#0d58a1\",\"#0c57a0\",\"#0c56a0\",\"#0b559f\",\"#0a549e\",\"#09539d\",\"#08529c\",\"#08519c\",\"#08509a\",\"#084f99\",\"#084e97\",\"#084c96\",\"#084b94\",\"#084a92\",\"#084991\",\"#08488f\",\"#08478e\",\"#08468c\",\"#08458b\",\"#084489\",\"#084388\",\"#084286\",\"#084185\",\"#084083\",\"#083f82\",\"#083e80\",\"#083d7e\",\"#083c7d\",\"#083b7b\",\"#083a7a\",\"#083978\",\"#083877\",\"#083775\",\"#083674\",\"#083572\",\"#083471\",\"#08336f\",\"#08326e\",\"#08316c\",\"#08306b\"]},\"id\":\"1039\",\"type\":\"LinearColorMapper\"},{\"attributes\":{\"axis_label\":\"x\",\"coordinates\":null,\"formatter\":{\"id\":\"1069\"},\"group\":null,\"major_label_policy\":{\"id\":\"1070\"},\"ticker\":{\"id\":\"1017\"},\"visible\":false},\"id\":\"1016\",\"type\":\"LinearAxis\"},{\"attributes\":{},\"id\":\"1072\",\"type\":\"BasicTickFormatter\"},{\"attributes\":{\"end\":1.1812638567561304,\"reset_end\":1.1812638567561304,\"reset_start\":-0.9939024243174337,\"start\":-0.9939024243174337,\"tags\":[[[\"x\",\"x\",null]]]},\"id\":\"1004\",\"type\":\"Range1d\"},{\"attributes\":{\"line_alpha\":{\"value\":0.2},\"line_width\":{\"value\":2}},\"id\":\"1050\",\"type\":\"MultiLine\"},{\"attributes\":{\"fill_color\":{\"value\":\"limegreen\"},\"hatch_color\":{\"value\":\"#30a2da\"},\"size\":{\"field\":\"node_size\"}},\"id\":\"1045\",\"type\":\"Circle\"},{\"attributes\":{\"source\":{\"id\":\"1041\"}},\"id\":\"1054\",\"type\":\"CDSView\"},{\"attributes\":{},\"id\":\"1017\",\"type\":\"BasicTicker\"},{\"attributes\":{},\"id\":\"1014\",\"type\":\"LinearScale\"},{\"attributes\":{\"line_width\":{\"value\":2}},\"id\":\"1049\",\"type\":\"MultiLine\"},{\"attributes\":{\"callback\":null},\"id\":\"1029\",\"type\":\"TapTool\"},{\"attributes\":{\"line_alpha\":{\"value\":0.2},\"line_width\":{\"value\":2}},\"id\":\"1052\",\"type\":\"MultiLine\"},{\"attributes\":{\"axis_label\":\"y\",\"coordinates\":null,\"formatter\":{\"id\":\"1072\"},\"group\":null,\"major_label_policy\":{\"id\":\"1073\"},\"ticker\":{\"id\":\"1021\"},\"visible\":false},\"id\":\"1020\",\"type\":\"LinearAxis\"}],\"root_ids\":[\"1003\"]},\"title\":\"Bokeh Application\",\"version\":\"2.4.3\"}};\n",
       "    var render_items = [{\"docid\":\"1b4554ef-1ddc-4fb2-90ec-af103712d237\",\"root_ids\":[\"1003\"],\"roots\":{\"1003\":\"7b25a1c2-ec81-405e-82c0-d6181a8818d7\"}}];\n",
       "    root.Bokeh.embed.embed_items_notebook(docs_json, render_items);\n",
       "    for (const render_item of render_items) {\n",
       "      for (const root_id of render_item.root_ids) {\n",
       "\tconst id_el = document.getElementById(root_id)\n",
       "\tif (id_el.children.length && (id_el.children[0].className === 'bk-root')) {\n",
       "\t  const root_el = id_el.children[0]\n",
       "\t  root_el.id = root_el.id + '-rendered'\n",
       "\t}\n",
       "      }\n",
       "    }\n",
       "  }\n",
       "  if (root.Bokeh !== undefined && root.Bokeh.Panel !== undefined) {\n",
       "    embed_document(root);\n",
       "  } else {\n",
       "    var attempts = 0;\n",
       "    var timer = setInterval(function(root) {\n",
       "      if (root.Bokeh !== undefined && root.Bokeh.Panel !== undefined) {\n",
       "        clearInterval(timer);\n",
       "        embed_document(root);\n",
       "      } else if (document.readyState == \"complete\") {\n",
       "        attempts++;\n",
       "        if (attempts > 200) {\n",
       "          clearInterval(timer);\n",
       "          console.log(\"Bokeh: ERROR: Unable to run BokehJS code because BokehJS library is missing\");\n",
       "        }\n",
       "      }\n",
       "    }, 25, root)\n",
       "  }\n",
       "})(window);</script>"
      ],
      "text/plain": [
       ":Graph   [start,end]"
      ]
     },
     "execution_count": 3,
     "metadata": {
      "application/vnd.holoviews_exec.v0+json": {
       "id": "1003"
      }
     },
     "output_type": "execute_result"
    }
   ],
   "source": [
    "\n",
    "hook.run_with_input(np.zeros((1,3, 64, 64), dtype=np.float32))\n",
    "hook.get_graph(include_parent_modules=False)"
   ]
  },
  {
   "attachments": {},
   "cell_type": "markdown",
   "metadata": {},
   "source": [
    "This network is actually substantially overparameterized. The convolutional layers have a `scale` setting, which is set to 4 in Langosco et al.'s trained networks. Training performance and generalization seems similar for `scale=1` and `scale=4`."
   ]
  },
  {
   "cell_type": "code",
   "execution_count": 4,
   "metadata": {},
   "outputs": [
    {
     "data": {
      "application/vnd.plotly.v1+json": {
       "config": {
        "plotlyServerURL": "https://plot.ly"
       },
       "data": [
        {
         "hoverlabel": {
          "bgcolor": "white"
         },
         "hovertemplate": "%{text:,} parameters<extra></extra>",
         "orientation": "h",
         "text": [
          "257",
          "3855",
          "2097408",
          "147584",
          "147584",
          "147584",
          "147584",
          "147584",
          "147584",
          "147584",
          "147584",
          "147584",
          "73856",
          "36928",
          "36928",
          "36928",
          "36928",
          "1792"
         ],
         "textposition": "outside",
         "texttemplate": "%{text:,}",
         "type": "bar",
         "x": [
          257,
          3855,
          2097408,
          147584,
          147584,
          147584,
          147584,
          147584,
          147584,
          147584,
          147584,
          147584,
          73856,
          36928,
          36928,
          36928,
          36928,
          1792
         ],
         "y": [
          "fc_value",
          "fc_policy",
          "fc",
          "block3.res2.conv2",
          "block3.res2.conv1",
          "block3.res1.conv2",
          "block3.res1.conv1",
          "block3.conv",
          "block2.res2.conv2",
          "block2.res2.conv1",
          "block2.res1.conv2",
          "block2.res1.conv1",
          "block2.conv",
          "block1.res2.conv2",
          "block1.res2.conv1",
          "block1.res1.conv2",
          "block1.res1.conv1",
          "block1.conv"
         ]
        }
       ],
       "layout": {
        "height": 500,
        "template": {
         "data": {
          "bar": [
           {
            "error_x": {
             "color": "#2a3f5f"
            },
            "error_y": {
             "color": "#2a3f5f"
            },
            "marker": {
             "line": {
              "color": "#E5ECF6",
              "width": 0.5
             },
             "pattern": {
              "fillmode": "overlay",
              "size": 10,
              "solidity": 0.2
             }
            },
            "type": "bar"
           }
          ],
          "barpolar": [
           {
            "marker": {
             "line": {
              "color": "#E5ECF6",
              "width": 0.5
             },
             "pattern": {
              "fillmode": "overlay",
              "size": 10,
              "solidity": 0.2
             }
            },
            "type": "barpolar"
           }
          ],
          "carpet": [
           {
            "aaxis": {
             "endlinecolor": "#2a3f5f",
             "gridcolor": "white",
             "linecolor": "white",
             "minorgridcolor": "white",
             "startlinecolor": "#2a3f5f"
            },
            "baxis": {
             "endlinecolor": "#2a3f5f",
             "gridcolor": "white",
             "linecolor": "white",
             "minorgridcolor": "white",
             "startlinecolor": "#2a3f5f"
            },
            "type": "carpet"
           }
          ],
          "choropleth": [
           {
            "colorbar": {
             "outlinewidth": 0,
             "ticks": ""
            },
            "type": "choropleth"
           }
          ],
          "contour": [
           {
            "colorbar": {
             "outlinewidth": 0,
             "ticks": ""
            },
            "colorscale": [
             [
              0,
              "#0d0887"
             ],
             [
              0.1111111111111111,
              "#46039f"
             ],
             [
              0.2222222222222222,
              "#7201a8"
             ],
             [
              0.3333333333333333,
              "#9c179e"
             ],
             [
              0.4444444444444444,
              "#bd3786"
             ],
             [
              0.5555555555555556,
              "#d8576b"
             ],
             [
              0.6666666666666666,
              "#ed7953"
             ],
             [
              0.7777777777777778,
              "#fb9f3a"
             ],
             [
              0.8888888888888888,
              "#fdca26"
             ],
             [
              1,
              "#f0f921"
             ]
            ],
            "type": "contour"
           }
          ],
          "contourcarpet": [
           {
            "colorbar": {
             "outlinewidth": 0,
             "ticks": ""
            },
            "type": "contourcarpet"
           }
          ],
          "heatmap": [
           {
            "colorbar": {
             "outlinewidth": 0,
             "ticks": ""
            },
            "colorscale": [
             [
              0,
              "#0d0887"
             ],
             [
              0.1111111111111111,
              "#46039f"
             ],
             [
              0.2222222222222222,
              "#7201a8"
             ],
             [
              0.3333333333333333,
              "#9c179e"
             ],
             [
              0.4444444444444444,
              "#bd3786"
             ],
             [
              0.5555555555555556,
              "#d8576b"
             ],
             [
              0.6666666666666666,
              "#ed7953"
             ],
             [
              0.7777777777777778,
              "#fb9f3a"
             ],
             [
              0.8888888888888888,
              "#fdca26"
             ],
             [
              1,
              "#f0f921"
             ]
            ],
            "type": "heatmap"
           }
          ],
          "heatmapgl": [
           {
            "colorbar": {
             "outlinewidth": 0,
             "ticks": ""
            },
            "colorscale": [
             [
              0,
              "#0d0887"
             ],
             [
              0.1111111111111111,
              "#46039f"
             ],
             [
              0.2222222222222222,
              "#7201a8"
             ],
             [
              0.3333333333333333,
              "#9c179e"
             ],
             [
              0.4444444444444444,
              "#bd3786"
             ],
             [
              0.5555555555555556,
              "#d8576b"
             ],
             [
              0.6666666666666666,
              "#ed7953"
             ],
             [
              0.7777777777777778,
              "#fb9f3a"
             ],
             [
              0.8888888888888888,
              "#fdca26"
             ],
             [
              1,
              "#f0f921"
             ]
            ],
            "type": "heatmapgl"
           }
          ],
          "histogram": [
           {
            "marker": {
             "pattern": {
              "fillmode": "overlay",
              "size": 10,
              "solidity": 0.2
             }
            },
            "type": "histogram"
           }
          ],
          "histogram2d": [
           {
            "colorbar": {
             "outlinewidth": 0,
             "ticks": ""
            },
            "colorscale": [
             [
              0,
              "#0d0887"
             ],
             [
              0.1111111111111111,
              "#46039f"
             ],
             [
              0.2222222222222222,
              "#7201a8"
             ],
             [
              0.3333333333333333,
              "#9c179e"
             ],
             [
              0.4444444444444444,
              "#bd3786"
             ],
             [
              0.5555555555555556,
              "#d8576b"
             ],
             [
              0.6666666666666666,
              "#ed7953"
             ],
             [
              0.7777777777777778,
              "#fb9f3a"
             ],
             [
              0.8888888888888888,
              "#fdca26"
             ],
             [
              1,
              "#f0f921"
             ]
            ],
            "type": "histogram2d"
           }
          ],
          "histogram2dcontour": [
           {
            "colorbar": {
             "outlinewidth": 0,
             "ticks": ""
            },
            "colorscale": [
             [
              0,
              "#0d0887"
             ],
             [
              0.1111111111111111,
              "#46039f"
             ],
             [
              0.2222222222222222,
              "#7201a8"
             ],
             [
              0.3333333333333333,
              "#9c179e"
             ],
             [
              0.4444444444444444,
              "#bd3786"
             ],
             [
              0.5555555555555556,
              "#d8576b"
             ],
             [
              0.6666666666666666,
              "#ed7953"
             ],
             [
              0.7777777777777778,
              "#fb9f3a"
             ],
             [
              0.8888888888888888,
              "#fdca26"
             ],
             [
              1,
              "#f0f921"
             ]
            ],
            "type": "histogram2dcontour"
           }
          ],
          "mesh3d": [
           {
            "colorbar": {
             "outlinewidth": 0,
             "ticks": ""
            },
            "type": "mesh3d"
           }
          ],
          "parcoords": [
           {
            "line": {
             "colorbar": {
              "outlinewidth": 0,
              "ticks": ""
             }
            },
            "type": "parcoords"
           }
          ],
          "pie": [
           {
            "automargin": true,
            "type": "pie"
           }
          ],
          "scatter": [
           {
            "fillpattern": {
             "fillmode": "overlay",
             "size": 10,
             "solidity": 0.2
            },
            "type": "scatter"
           }
          ],
          "scatter3d": [
           {
            "line": {
             "colorbar": {
              "outlinewidth": 0,
              "ticks": ""
             }
            },
            "marker": {
             "colorbar": {
              "outlinewidth": 0,
              "ticks": ""
             }
            },
            "type": "scatter3d"
           }
          ],
          "scattercarpet": [
           {
            "marker": {
             "colorbar": {
              "outlinewidth": 0,
              "ticks": ""
             }
            },
            "type": "scattercarpet"
           }
          ],
          "scattergeo": [
           {
            "marker": {
             "colorbar": {
              "outlinewidth": 0,
              "ticks": ""
             }
            },
            "type": "scattergeo"
           }
          ],
          "scattergl": [
           {
            "marker": {
             "colorbar": {
              "outlinewidth": 0,
              "ticks": ""
             }
            },
            "type": "scattergl"
           }
          ],
          "scattermapbox": [
           {
            "marker": {
             "colorbar": {
              "outlinewidth": 0,
              "ticks": ""
             }
            },
            "type": "scattermapbox"
           }
          ],
          "scatterpolar": [
           {
            "marker": {
             "colorbar": {
              "outlinewidth": 0,
              "ticks": ""
             }
            },
            "type": "scatterpolar"
           }
          ],
          "scatterpolargl": [
           {
            "marker": {
             "colorbar": {
              "outlinewidth": 0,
              "ticks": ""
             }
            },
            "type": "scatterpolargl"
           }
          ],
          "scatterternary": [
           {
            "marker": {
             "colorbar": {
              "outlinewidth": 0,
              "ticks": ""
             }
            },
            "type": "scatterternary"
           }
          ],
          "surface": [
           {
            "colorbar": {
             "outlinewidth": 0,
             "ticks": ""
            },
            "colorscale": [
             [
              0,
              "#0d0887"
             ],
             [
              0.1111111111111111,
              "#46039f"
             ],
             [
              0.2222222222222222,
              "#7201a8"
             ],
             [
              0.3333333333333333,
              "#9c179e"
             ],
             [
              0.4444444444444444,
              "#bd3786"
             ],
             [
              0.5555555555555556,
              "#d8576b"
             ],
             [
              0.6666666666666666,
              "#ed7953"
             ],
             [
              0.7777777777777778,
              "#fb9f3a"
             ],
             [
              0.8888888888888888,
              "#fdca26"
             ],
             [
              1,
              "#f0f921"
             ]
            ],
            "type": "surface"
           }
          ],
          "table": [
           {
            "cells": {
             "fill": {
              "color": "#EBF0F8"
             },
             "line": {
              "color": "white"
             }
            },
            "header": {
             "fill": {
              "color": "#C8D4E3"
             },
             "line": {
              "color": "white"
             }
            },
            "type": "table"
           }
          ]
         },
         "layout": {
          "annotationdefaults": {
           "arrowcolor": "#2a3f5f",
           "arrowhead": 0,
           "arrowwidth": 1
          },
          "autotypenumbers": "strict",
          "coloraxis": {
           "colorbar": {
            "outlinewidth": 0,
            "ticks": ""
           }
          },
          "colorscale": {
           "diverging": [
            [
             0,
             "#8e0152"
            ],
            [
             0.1,
             "#c51b7d"
            ],
            [
             0.2,
             "#de77ae"
            ],
            [
             0.3,
             "#f1b6da"
            ],
            [
             0.4,
             "#fde0ef"
            ],
            [
             0.5,
             "#f7f7f7"
            ],
            [
             0.6,
             "#e6f5d0"
            ],
            [
             0.7,
             "#b8e186"
            ],
            [
             0.8,
             "#7fbc41"
            ],
            [
             0.9,
             "#4d9221"
            ],
            [
             1,
             "#276419"
            ]
           ],
           "sequential": [
            [
             0,
             "#0d0887"
            ],
            [
             0.1111111111111111,
             "#46039f"
            ],
            [
             0.2222222222222222,
             "#7201a8"
            ],
            [
             0.3333333333333333,
             "#9c179e"
            ],
            [
             0.4444444444444444,
             "#bd3786"
            ],
            [
             0.5555555555555556,
             "#d8576b"
            ],
            [
             0.6666666666666666,
             "#ed7953"
            ],
            [
             0.7777777777777778,
             "#fb9f3a"
            ],
            [
             0.8888888888888888,
             "#fdca26"
            ],
            [
             1,
             "#f0f921"
            ]
           ],
           "sequentialminus": [
            [
             0,
             "#0d0887"
            ],
            [
             0.1111111111111111,
             "#46039f"
            ],
            [
             0.2222222222222222,
             "#7201a8"
            ],
            [
             0.3333333333333333,
             "#9c179e"
            ],
            [
             0.4444444444444444,
             "#bd3786"
            ],
            [
             0.5555555555555556,
             "#d8576b"
            ],
            [
             0.6666666666666666,
             "#ed7953"
            ],
            [
             0.7777777777777778,
             "#fb9f3a"
            ],
            [
             0.8888888888888888,
             "#fdca26"
            ],
            [
             1,
             "#f0f921"
            ]
           ]
          },
          "colorway": [
           "#636efa",
           "#EF553B",
           "#00cc96",
           "#ab63fa",
           "#FFA15A",
           "#19d3f3",
           "#FF6692",
           "#B6E880",
           "#FF97FF",
           "#FECB52"
          ],
          "font": {
           "color": "#2a3f5f"
          },
          "geo": {
           "bgcolor": "white",
           "lakecolor": "white",
           "landcolor": "#E5ECF6",
           "showlakes": true,
           "showland": true,
           "subunitcolor": "white"
          },
          "hoverlabel": {
           "align": "left"
          },
          "hovermode": "closest",
          "mapbox": {
           "style": "light"
          },
          "paper_bgcolor": "white",
          "plot_bgcolor": "#E5ECF6",
          "polar": {
           "angularaxis": {
            "gridcolor": "white",
            "linecolor": "white",
            "ticks": ""
           },
           "bgcolor": "#E5ECF6",
           "radialaxis": {
            "gridcolor": "white",
            "linecolor": "white",
            "ticks": ""
           }
          },
          "scene": {
           "xaxis": {
            "backgroundcolor": "#E5ECF6",
            "gridcolor": "white",
            "gridwidth": 2,
            "linecolor": "white",
            "showbackground": true,
            "ticks": "",
            "zerolinecolor": "white"
           },
           "yaxis": {
            "backgroundcolor": "#E5ECF6",
            "gridcolor": "white",
            "gridwidth": 2,
            "linecolor": "white",
            "showbackground": true,
            "ticks": "",
            "zerolinecolor": "white"
           },
           "zaxis": {
            "backgroundcolor": "#E5ECF6",
            "gridcolor": "white",
            "gridwidth": 2,
            "linecolor": "white",
            "showbackground": true,
            "ticks": "",
            "zerolinecolor": "white"
           }
          },
          "shapedefaults": {
           "line": {
            "color": "#2a3f5f"
           }
          },
          "ternary": {
           "aaxis": {
            "gridcolor": "white",
            "linecolor": "white",
            "ticks": ""
           },
           "baxis": {
            "gridcolor": "white",
            "linecolor": "white",
            "ticks": ""
           },
           "bgcolor": "#E5ECF6",
           "caxis": {
            "gridcolor": "white",
            "linecolor": "white",
            "ticks": ""
           }
          },
          "title": {
           "x": 0.05
          },
          "xaxis": {
           "automargin": true,
           "gridcolor": "white",
           "linecolor": "white",
           "ticks": "",
           "title": {
            "standoff": 15
           },
           "zerolinecolor": "white",
           "zerolinewidth": 2
          },
          "yaxis": {
           "automargin": true,
           "gridcolor": "white",
           "linecolor": "white",
           "ticks": "",
           "title": {
            "standoff": 15
           },
           "zerolinecolor": "white",
           "zerolinewidth": 2
          }
         }
        },
        "title": {
         "text": "Model Parameters Per Layer (Total: 3,653,136)",
         "x": 0.5,
         "xanchor": "center",
         "y": 0.9,
         "yanchor": "top"
        },
        "xaxis": {
         "title": {
          "text": "Parameters"
         },
         "type": "log"
        },
        "yaxis": {
         "title": {
          "text": "Layer"
         }
        }
       }
      }
     },
     "metadata": {},
     "output_type": "display_data"
    },
    {
     "data": {
      "application/vnd.plotly.v1+json": {
       "config": {
        "plotlyServerURL": "https://plot.ly"
       },
       "data": [
        {
         "hoverlabel": {
          "bgcolor": "white"
         },
         "hovertemplate": "%{text:,} activations<extra></extra>",
         "orientation": "h",
         "text": [
          "256",
          "256",
          "8192",
          "8192",
          "8192",
          "8192",
          "8192",
          "8192",
          "8192",
          "8192",
          "8192",
          "8192",
          "8192",
          "8192",
          "8192",
          "32768",
          "32768",
          "32768",
          "32768",
          "32768",
          "32768",
          "32768",
          "32768",
          "32768",
          "32768",
          "32768",
          "32768",
          "131072",
          "65536",
          "65536",
          "65536",
          "65536",
          "65536",
          "65536",
          "65536",
          "65536",
          "65536",
          "65536",
          "65536",
          "262144"
         ],
         "textposition": "outside",
         "texttemplate": "%{text:,}",
         "type": "bar",
         "x": [
          256,
          256,
          8192,
          8192,
          8192,
          8192,
          8192,
          8192,
          8192,
          8192,
          8192,
          8192,
          8192,
          8192,
          8192,
          32768,
          32768,
          32768,
          32768,
          32768,
          32768,
          32768,
          32768,
          32768,
          32768,
          32768,
          32768,
          131072,
          65536,
          65536,
          65536,
          65536,
          65536,
          65536,
          65536,
          65536,
          65536,
          65536,
          65536,
          262144
         ],
         "y": [
          "relufc_out",
          "fc_out",
          "flatten_out",
          "relu3_out",
          "block3.res2.resadd_out",
          "block3.res2.conv2_out",
          "block3.res2.relu2_out",
          "block3.res2.conv1_out",
          "block3.res2.relu1_out",
          "block3.res1.resadd_out",
          "block3.res1.conv2_out",
          "block3.res1.relu2_out",
          "block3.res1.conv1_out",
          "block3.res1.relu1_out",
          "block3.maxpool_out",
          "block3.conv_out",
          "block2.res2.resadd_out",
          "block2.res2.conv2_out",
          "block2.res2.relu2_out",
          "block2.res2.conv1_out",
          "block2.res2.relu1_out",
          "block2.res1.resadd_out",
          "block2.res1.conv2_out",
          "block2.res1.relu2_out",
          "block2.res1.conv1_out",
          "block2.res1.relu1_out",
          "block2.maxpool_out",
          "block2.conv_out",
          "block1.res2.resadd_out",
          "block1.res2.conv2_out",
          "block1.res2.relu2_out",
          "block1.res2.conv1_out",
          "block1.res2.relu1_out",
          "block1.res1.resadd_out",
          "block1.res1.conv2_out",
          "block1.res1.relu2_out",
          "block1.res1.conv1_out",
          "block1.res1.relu1_out",
          "block1.maxpool_out",
          "block1.conv_out"
         ]
        }
       ],
       "layout": {
        "height": 800,
        "template": {
         "data": {
          "bar": [
           {
            "error_x": {
             "color": "#2a3f5f"
            },
            "error_y": {
             "color": "#2a3f5f"
            },
            "marker": {
             "line": {
              "color": "#E5ECF6",
              "width": 0.5
             },
             "pattern": {
              "fillmode": "overlay",
              "size": 10,
              "solidity": 0.2
             }
            },
            "type": "bar"
           }
          ],
          "barpolar": [
           {
            "marker": {
             "line": {
              "color": "#E5ECF6",
              "width": 0.5
             },
             "pattern": {
              "fillmode": "overlay",
              "size": 10,
              "solidity": 0.2
             }
            },
            "type": "barpolar"
           }
          ],
          "carpet": [
           {
            "aaxis": {
             "endlinecolor": "#2a3f5f",
             "gridcolor": "white",
             "linecolor": "white",
             "minorgridcolor": "white",
             "startlinecolor": "#2a3f5f"
            },
            "baxis": {
             "endlinecolor": "#2a3f5f",
             "gridcolor": "white",
             "linecolor": "white",
             "minorgridcolor": "white",
             "startlinecolor": "#2a3f5f"
            },
            "type": "carpet"
           }
          ],
          "choropleth": [
           {
            "colorbar": {
             "outlinewidth": 0,
             "ticks": ""
            },
            "type": "choropleth"
           }
          ],
          "contour": [
           {
            "colorbar": {
             "outlinewidth": 0,
             "ticks": ""
            },
            "colorscale": [
             [
              0,
              "#0d0887"
             ],
             [
              0.1111111111111111,
              "#46039f"
             ],
             [
              0.2222222222222222,
              "#7201a8"
             ],
             [
              0.3333333333333333,
              "#9c179e"
             ],
             [
              0.4444444444444444,
              "#bd3786"
             ],
             [
              0.5555555555555556,
              "#d8576b"
             ],
             [
              0.6666666666666666,
              "#ed7953"
             ],
             [
              0.7777777777777778,
              "#fb9f3a"
             ],
             [
              0.8888888888888888,
              "#fdca26"
             ],
             [
              1,
              "#f0f921"
             ]
            ],
            "type": "contour"
           }
          ],
          "contourcarpet": [
           {
            "colorbar": {
             "outlinewidth": 0,
             "ticks": ""
            },
            "type": "contourcarpet"
           }
          ],
          "heatmap": [
           {
            "colorbar": {
             "outlinewidth": 0,
             "ticks": ""
            },
            "colorscale": [
             [
              0,
              "#0d0887"
             ],
             [
              0.1111111111111111,
              "#46039f"
             ],
             [
              0.2222222222222222,
              "#7201a8"
             ],
             [
              0.3333333333333333,
              "#9c179e"
             ],
             [
              0.4444444444444444,
              "#bd3786"
             ],
             [
              0.5555555555555556,
              "#d8576b"
             ],
             [
              0.6666666666666666,
              "#ed7953"
             ],
             [
              0.7777777777777778,
              "#fb9f3a"
             ],
             [
              0.8888888888888888,
              "#fdca26"
             ],
             [
              1,
              "#f0f921"
             ]
            ],
            "type": "heatmap"
           }
          ],
          "heatmapgl": [
           {
            "colorbar": {
             "outlinewidth": 0,
             "ticks": ""
            },
            "colorscale": [
             [
              0,
              "#0d0887"
             ],
             [
              0.1111111111111111,
              "#46039f"
             ],
             [
              0.2222222222222222,
              "#7201a8"
             ],
             [
              0.3333333333333333,
              "#9c179e"
             ],
             [
              0.4444444444444444,
              "#bd3786"
             ],
             [
              0.5555555555555556,
              "#d8576b"
             ],
             [
              0.6666666666666666,
              "#ed7953"
             ],
             [
              0.7777777777777778,
              "#fb9f3a"
             ],
             [
              0.8888888888888888,
              "#fdca26"
             ],
             [
              1,
              "#f0f921"
             ]
            ],
            "type": "heatmapgl"
           }
          ],
          "histogram": [
           {
            "marker": {
             "pattern": {
              "fillmode": "overlay",
              "size": 10,
              "solidity": 0.2
             }
            },
            "type": "histogram"
           }
          ],
          "histogram2d": [
           {
            "colorbar": {
             "outlinewidth": 0,
             "ticks": ""
            },
            "colorscale": [
             [
              0,
              "#0d0887"
             ],
             [
              0.1111111111111111,
              "#46039f"
             ],
             [
              0.2222222222222222,
              "#7201a8"
             ],
             [
              0.3333333333333333,
              "#9c179e"
             ],
             [
              0.4444444444444444,
              "#bd3786"
             ],
             [
              0.5555555555555556,
              "#d8576b"
             ],
             [
              0.6666666666666666,
              "#ed7953"
             ],
             [
              0.7777777777777778,
              "#fb9f3a"
             ],
             [
              0.8888888888888888,
              "#fdca26"
             ],
             [
              1,
              "#f0f921"
             ]
            ],
            "type": "histogram2d"
           }
          ],
          "histogram2dcontour": [
           {
            "colorbar": {
             "outlinewidth": 0,
             "ticks": ""
            },
            "colorscale": [
             [
              0,
              "#0d0887"
             ],
             [
              0.1111111111111111,
              "#46039f"
             ],
             [
              0.2222222222222222,
              "#7201a8"
             ],
             [
              0.3333333333333333,
              "#9c179e"
             ],
             [
              0.4444444444444444,
              "#bd3786"
             ],
             [
              0.5555555555555556,
              "#d8576b"
             ],
             [
              0.6666666666666666,
              "#ed7953"
             ],
             [
              0.7777777777777778,
              "#fb9f3a"
             ],
             [
              0.8888888888888888,
              "#fdca26"
             ],
             [
              1,
              "#f0f921"
             ]
            ],
            "type": "histogram2dcontour"
           }
          ],
          "mesh3d": [
           {
            "colorbar": {
             "outlinewidth": 0,
             "ticks": ""
            },
            "type": "mesh3d"
           }
          ],
          "parcoords": [
           {
            "line": {
             "colorbar": {
              "outlinewidth": 0,
              "ticks": ""
             }
            },
            "type": "parcoords"
           }
          ],
          "pie": [
           {
            "automargin": true,
            "type": "pie"
           }
          ],
          "scatter": [
           {
            "fillpattern": {
             "fillmode": "overlay",
             "size": 10,
             "solidity": 0.2
            },
            "type": "scatter"
           }
          ],
          "scatter3d": [
           {
            "line": {
             "colorbar": {
              "outlinewidth": 0,
              "ticks": ""
             }
            },
            "marker": {
             "colorbar": {
              "outlinewidth": 0,
              "ticks": ""
             }
            },
            "type": "scatter3d"
           }
          ],
          "scattercarpet": [
           {
            "marker": {
             "colorbar": {
              "outlinewidth": 0,
              "ticks": ""
             }
            },
            "type": "scattercarpet"
           }
          ],
          "scattergeo": [
           {
            "marker": {
             "colorbar": {
              "outlinewidth": 0,
              "ticks": ""
             }
            },
            "type": "scattergeo"
           }
          ],
          "scattergl": [
           {
            "marker": {
             "colorbar": {
              "outlinewidth": 0,
              "ticks": ""
             }
            },
            "type": "scattergl"
           }
          ],
          "scattermapbox": [
           {
            "marker": {
             "colorbar": {
              "outlinewidth": 0,
              "ticks": ""
             }
            },
            "type": "scattermapbox"
           }
          ],
          "scatterpolar": [
           {
            "marker": {
             "colorbar": {
              "outlinewidth": 0,
              "ticks": ""
             }
            },
            "type": "scatterpolar"
           }
          ],
          "scatterpolargl": [
           {
            "marker": {
             "colorbar": {
              "outlinewidth": 0,
              "ticks": ""
             }
            },
            "type": "scatterpolargl"
           }
          ],
          "scatterternary": [
           {
            "marker": {
             "colorbar": {
              "outlinewidth": 0,
              "ticks": ""
             }
            },
            "type": "scatterternary"
           }
          ],
          "surface": [
           {
            "colorbar": {
             "outlinewidth": 0,
             "ticks": ""
            },
            "colorscale": [
             [
              0,
              "#0d0887"
             ],
             [
              0.1111111111111111,
              "#46039f"
             ],
             [
              0.2222222222222222,
              "#7201a8"
             ],
             [
              0.3333333333333333,
              "#9c179e"
             ],
             [
              0.4444444444444444,
              "#bd3786"
             ],
             [
              0.5555555555555556,
              "#d8576b"
             ],
             [
              0.6666666666666666,
              "#ed7953"
             ],
             [
              0.7777777777777778,
              "#fb9f3a"
             ],
             [
              0.8888888888888888,
              "#fdca26"
             ],
             [
              1,
              "#f0f921"
             ]
            ],
            "type": "surface"
           }
          ],
          "table": [
           {
            "cells": {
             "fill": {
              "color": "#EBF0F8"
             },
             "line": {
              "color": "white"
             }
            },
            "header": {
             "fill": {
              "color": "#C8D4E3"
             },
             "line": {
              "color": "white"
             }
            },
            "type": "table"
           }
          ]
         },
         "layout": {
          "annotationdefaults": {
           "arrowcolor": "#2a3f5f",
           "arrowhead": 0,
           "arrowwidth": 1
          },
          "autotypenumbers": "strict",
          "coloraxis": {
           "colorbar": {
            "outlinewidth": 0,
            "ticks": ""
           }
          },
          "colorscale": {
           "diverging": [
            [
             0,
             "#8e0152"
            ],
            [
             0.1,
             "#c51b7d"
            ],
            [
             0.2,
             "#de77ae"
            ],
            [
             0.3,
             "#f1b6da"
            ],
            [
             0.4,
             "#fde0ef"
            ],
            [
             0.5,
             "#f7f7f7"
            ],
            [
             0.6,
             "#e6f5d0"
            ],
            [
             0.7,
             "#b8e186"
            ],
            [
             0.8,
             "#7fbc41"
            ],
            [
             0.9,
             "#4d9221"
            ],
            [
             1,
             "#276419"
            ]
           ],
           "sequential": [
            [
             0,
             "#0d0887"
            ],
            [
             0.1111111111111111,
             "#46039f"
            ],
            [
             0.2222222222222222,
             "#7201a8"
            ],
            [
             0.3333333333333333,
             "#9c179e"
            ],
            [
             0.4444444444444444,
             "#bd3786"
            ],
            [
             0.5555555555555556,
             "#d8576b"
            ],
            [
             0.6666666666666666,
             "#ed7953"
            ],
            [
             0.7777777777777778,
             "#fb9f3a"
            ],
            [
             0.8888888888888888,
             "#fdca26"
            ],
            [
             1,
             "#f0f921"
            ]
           ],
           "sequentialminus": [
            [
             0,
             "#0d0887"
            ],
            [
             0.1111111111111111,
             "#46039f"
            ],
            [
             0.2222222222222222,
             "#7201a8"
            ],
            [
             0.3333333333333333,
             "#9c179e"
            ],
            [
             0.4444444444444444,
             "#bd3786"
            ],
            [
             0.5555555555555556,
             "#d8576b"
            ],
            [
             0.6666666666666666,
             "#ed7953"
            ],
            [
             0.7777777777777778,
             "#fb9f3a"
            ],
            [
             0.8888888888888888,
             "#fdca26"
            ],
            [
             1,
             "#f0f921"
            ]
           ]
          },
          "colorway": [
           "#636efa",
           "#EF553B",
           "#00cc96",
           "#ab63fa",
           "#FFA15A",
           "#19d3f3",
           "#FF6692",
           "#B6E880",
           "#FF97FF",
           "#FECB52"
          ],
          "font": {
           "color": "#2a3f5f"
          },
          "geo": {
           "bgcolor": "white",
           "lakecolor": "white",
           "landcolor": "#E5ECF6",
           "showlakes": true,
           "showland": true,
           "subunitcolor": "white"
          },
          "hoverlabel": {
           "align": "left"
          },
          "hovermode": "closest",
          "mapbox": {
           "style": "light"
          },
          "paper_bgcolor": "white",
          "plot_bgcolor": "#E5ECF6",
          "polar": {
           "angularaxis": {
            "gridcolor": "white",
            "linecolor": "white",
            "ticks": ""
           },
           "bgcolor": "#E5ECF6",
           "radialaxis": {
            "gridcolor": "white",
            "linecolor": "white",
            "ticks": ""
           }
          },
          "scene": {
           "xaxis": {
            "backgroundcolor": "#E5ECF6",
            "gridcolor": "white",
            "gridwidth": 2,
            "linecolor": "white",
            "showbackground": true,
            "ticks": "",
            "zerolinecolor": "white"
           },
           "yaxis": {
            "backgroundcolor": "#E5ECF6",
            "gridcolor": "white",
            "gridwidth": 2,
            "linecolor": "white",
            "showbackground": true,
            "ticks": "",
            "zerolinecolor": "white"
           },
           "zaxis": {
            "backgroundcolor": "#E5ECF6",
            "gridcolor": "white",
            "gridwidth": 2,
            "linecolor": "white",
            "showbackground": true,
            "ticks": "",
            "zerolinecolor": "white"
           }
          },
          "shapedefaults": {
           "line": {
            "color": "#2a3f5f"
           }
          },
          "ternary": {
           "aaxis": {
            "gridcolor": "white",
            "linecolor": "white",
            "ticks": ""
           },
           "baxis": {
            "gridcolor": "white",
            "linecolor": "white",
            "ticks": ""
           },
           "bgcolor": "#E5ECF6",
           "caxis": {
            "gridcolor": "white",
            "linecolor": "white",
            "ticks": ""
           }
          },
          "title": {
           "x": 0.05
          },
          "xaxis": {
           "automargin": true,
           "gridcolor": "white",
           "linecolor": "white",
           "ticks": "",
           "title": {
            "standoff": 15
           },
           "zerolinecolor": "white",
           "zerolinewidth": 2
          },
          "yaxis": {
           "automargin": true,
           "gridcolor": "white",
           "linecolor": "white",
           "ticks": "",
           "title": {
            "standoff": 15
           },
           "zerolinecolor": "white",
           "zerolinewidth": 2
          }
         }
        },
        "title": {
         "text": "Model Activations Per Layer (Total: 1,614,336)",
         "x": 0.5,
         "xanchor": "center",
         "y": 0.9,
         "yanchor": "top"
        },
        "xaxis": {
         "title": {
          "text": "Activation count"
         },
         "type": "log"
        },
        "yaxis": {
         "title": {
          "text": "Activations"
         }
        }
       }
      }
     },
     "metadata": {},
     "output_type": "display_data"
    }
   ],
   "source": [
    "visualization.plot_layer_stats(hook, mode=\"parameters\")\n",
    "visualization.plot_layer_stats(hook, mode=\"activations\") "
   ]
  },
  {
   "attachments": {},
   "cell_type": "markdown",
   "metadata": {},
   "source": [
    "# Viewing activations in the network"
   ]
  },
  {
   "cell_type": "code",
   "execution_count": 5,
   "metadata": {},
   "outputs": [
    {
     "data": {
      "text/plain": [
       "<matplotlib.image.AxesImage at 0x7f6cf42c4820>"
      ]
     },
     "execution_count": 5,
     "metadata": {},
     "output_type": "execute_result"
    },
    {
     "data": {
      "image/png": "[encoded data removed]",
      "text/plain": [
       "<Figure size 896x672 with 1 Axes>"
      ]
     },
     "metadata": {},
     "output_type": "display_data"
    }
   ],
   "source": [
    "def dummy_obs_pair(color: str, location: Tuple[int, int]=(32,32)):\n",
    "    \"\"\" Returns a mostly-black image pair, the first of which contains a red/green/blue pixel in the center. Returns obs of shape (2, 3, 64, 64). \"\"\"\n",
    "    \n",
    "    assert color in ['R', 'G', 'B'], f'Color must be one of R, G, B, not {color}'\n",
    "    assert len(location) == 2, 'Location must be a tuple of length 2'\n",
    "    assert all(0 <= col < 64 for col in location), 'Location must be in [0, 64)'\n",
    "\n",
    "    channel = {'R': 0, 'G': 1, 'B': 2}[color]\n",
    "    obs = np.zeros((2, 3, 64, 64), dtype=np.float32)\n",
    "    obs[0, channel, location[0], location[1]] = 1 # Have one pixel in the middle, in the given channel\n",
    "    return obs\n",
    "    \n",
    "# Let's load a dummy observation with only one nonzero value\n",
    "plt.imshow(dummy_obs_pair(\"G\")[0].transpose(1,2,0))"
   ]
  },
  {
   "cell_type": "code",
   "execution_count": 6,
   "metadata": {},
   "outputs": [],
   "source": [
    "# Get the available labels\n",
    "hook.run_with_input(dummy_obs_pair('R'))\n",
    "labels = list(hook.values_by_label.keys())[:-1] # Skip the \"_out\" layer and remove \"embedder.\" prefixes\n",
    "assert labels == list(map(expand_label, format_labels(labels)))"
   ]
  },
  {
   "cell_type": "code",
   "execution_count": 7,
   "metadata": {},
   "outputs": [
    {
     "data": {
      "application/vnd.jupyter.widget-view+json": {
       "model_id": "65e2d5c4d30f4076b078278e092d5621",
       "version_major": 2,
       "version_minor": 0
      },
      "text/plain": [
       "FigureWidget({\n",
       "    'data': [{'colorscale': [[0.0, 'rgb(103,0,31)'], [0.1, 'rgb(178,24,43)'],\n",
       "                             [0.2, 'rgb(214,96,77)'], [0.3, 'rgb(244,165,130)'],\n",
       "                             [0.4, 'rgb(253,219,199)'], [0.5, 'rgb(247,247,247)'],\n",
       "                             [0.6, 'rgb(209,229,240)'], [0.7, 'rgb(146,197,222)'],\n",
       "                             [0.8, 'rgb(67,147,195)'], [0.9, 'rgb(33,102,172)'],\n",
       "                             [1.0, 'rgb(5,48,97)']],\n",
       "              'type': 'heatmap',\n",
       "              'uid': '1d9bfec8-51a9-42e3-bfbb-d4fab9d25f1a',\n",
       "              'z': array([[0., 0., 0., ..., 0., 0., 0.],\n",
       "                          [0., 0., 0., ..., 0., 0., 0.],\n",
       "                          [0., 0., 0., ..., 0., 0., 0.],\n",
       "                          ...,\n",
       "                          [0., 0., 0., ..., 0., 0., 0.],\n",
       "                          [0., 0., 0., ..., 0., 0., 0.],\n",
       "                          [0., 0., 0., ..., 0., 0., 0.]], dtype=float32),\n",
       "              'zmax': 1.0,\n",
       "              'zmid': 0,\n",
       "              'zmin': -1.0}],\n",
       "    'layout': {'height': 500,\n",
       "               'template': '...',\n",
       "               'title': {'text': 'block1.conv_in0'},\n",
       "               'width': 500,\n",
       "               'xaxis': {'side': 'top'},\n",
       "               'yaxis': {'autorange': 'reversed'}}\n",
       "})"
      ]
     },
     "metadata": {},
     "output_type": "display_data"
    },
    {
     "data": {
      "application/vnd.jupyter.widget-view+json": {
       "model_id": "611bdacd1ab3466f9a695ec7bf9026de",
       "version_major": 2,
       "version_minor": 0
      },
      "text/plain": [
       "VBox(children=(Dropdown(description='Layers', options=('block1.conv_in0', 'block1.conv_out', 'block1.maxpool_o…"
      ]
     },
     "metadata": {},
     "output_type": "display_data"
    },
    {
     "data": {
      "application/vnd.jupyter.widget-view+json": {
       "model_id": "874587f64a43443d826fdbabc58c3ccc",
       "version_major": 2,
       "version_minor": 0
      },
      "text/plain": [
       "HBox(children=(Text(value='', layout=Layout(width='150px'), placeholder='Custom filename'), Button(description…"
      ]
     },
     "metadata": {},
     "output_type": "display_data"
    }
   ],
   "source": [
    "# We can begin to see how information propagates across the net for a dummy single-pixel input\n",
    "def activ_gen_px(col: int, row: int, layer_name: str, hook, color: str, pair: bool = False):\n",
    "    \"\"\" Get the activations for running a forward pass on a dummy observation, in the given color. Returns shape of (batch, channels, rows, cols), where size batch=1 if pair=False, and batch=2 if pair=True. \"\"\"\n",
    "    return get_activations(dummy_obs_pair(color, (row, col)), hook, layer_name)\n",
    "\n",
    "# Instantiate the plotter\n",
    "activ_plotter = ActivationsPlotter(labels, plotter=lambda activations, fig: plot_activations(activations[0], fig=fig), activ_gen=activ_gen_px, hook=hook, coords_enabled=True, color=\"R\") # TODO for some reason block2.maxpool_out has a different fig width?\n",
    "activ_plotter.display()"
   ]
  },
  {
   "cell_type": "code",
   "execution_count": 8,
   "metadata": {},
   "outputs": [
    {
     "data": {
      "application/vnd.jupyter.widget-view+json": {
       "model_id": "b4a9de117e5c420daecfb2c6f844ab13",
       "version_major": 2,
       "version_minor": 0
      },
      "text/plain": [
       "FigureWidget({\n",
       "    'data': [{'colorscale': [[0.0, 'rgb(103,0,31)'], [0.1, 'rgb(178,24,43)'],\n",
       "                             [0.2, 'rgb(214,96,77)'], [0.3, 'rgb(244,165,130)'],\n",
       "                             [0.4, 'rgb(253,219,199)'], [0.5, 'rgb(247,247,247)'],\n",
       "                             [0.6, 'rgb(209,229,240)'], [0.7, 'rgb(146,197,222)'],\n",
       "                             [0.8, 'rgb(67,147,195)'], [0.9, 'rgb(33,102,172)'],\n",
       "                             [1.0, 'rgb(5,48,97)']],\n",
       "              'type': 'heatmap',\n",
       "              'uid': 'd4970d36-0935-4375-b9da-74e5f89f9cb0',\n",
       "              'z': array([[0., 0., 0., ..., 0., 0., 0.],\n",
       "                          [0., 0., 0., ..., 0., 0., 0.],\n",
       "                          [0., 0., 0., ..., 0., 0., 0.],\n",
       "                          ...,\n",
       "                          [0., 0., 0., ..., 0., 0., 0.],\n",
       "                          [0., 0., 0., ..., 0., 0., 0.],\n",
       "                          [0., 0., 0., ..., 0., 0., 0.]], dtype=float32),\n",
       "              'zmax': 1.0,\n",
       "              'zmid': 0,\n",
       "              'zmin': -1.0}],\n",
       "    'layout': {'height': 500,\n",
       "               'template': '...',\n",
       "               'title': {'text': 'block1.conv_in0'},\n",
       "               'width': 500,\n",
       "               'xaxis': {'side': 'top'},\n",
       "               'yaxis': {'autorange': 'reversed'}}\n",
       "})"
      ]
     },
     "metadata": {},
     "output_type": "display_data"
    },
    {
     "data": {
      "application/vnd.jupyter.widget-view+json": {
       "model_id": "77d8e9fadbe245648a03f91e06e6b0e2",
       "version_major": 2,
       "version_minor": 0
      },
      "text/plain": [
       "VBox(children=(Dropdown(description='Layers', options=('block1.conv_in0', 'block1.conv_out', 'block1.maxpool_o…"
      ]
     },
     "metadata": {},
     "output_type": "display_data"
    },
    {
     "data": {
      "application/vnd.jupyter.widget-view+json": {
       "model_id": "669ceeb95f7c4109935d671317169b19",
       "version_major": 2,
       "version_minor": 0
      },
      "text/plain": [
       "HBox(children=(Text(value='', layout=Layout(width='150px'), placeholder='Custom filename'), Button(description…"
      ]
     },
     "metadata": {},
     "output_type": "display_data"
    }
   ],
   "source": [
    "# Plot the diff between a single-pixel input and a blank input\n",
    "activ_plotter = ActivationsPlotter(labels, plotter=lambda activations, fig: plot_activations(activations[0] - activations[1], fig=fig), activ_gen=activ_gen_px, hook=hook, coords_enabled=True, color=\"R\")\n",
    "activ_plotter.display()"
   ]
  },
  {
   "cell_type": "code",
   "execution_count": 9,
   "metadata": {},
   "outputs": [
    {
     "data": {
      "application/vnd.jupyter.widget-view+json": {
       "model_id": "c9d5e06d669e41f6a608998915e0d498",
       "version_major": 2,
       "version_minor": 0
      },
      "text/plain": [
       "FigureWidget({\n",
       "    'data': [{'colorscale': [[0.0, 'rgb(103,0,31)'], [0.1, 'rgb(178,24,43)'],\n",
       "                             [0.2, 'rgb(214,96,77)'], [0.3, 'rgb(244,165,130)'],\n",
       "                             [0.4, 'rgb(253,219,199)'], [0.5, 'rgb(247,247,247)'],\n",
       "                             [0.6, 'rgb(209,229,240)'], [0.7, 'rgb(146,197,222)'],\n",
       "                             [0.8, 'rgb(67,147,195)'], [0.9, 'rgb(33,102,172)'],\n",
       "                             [1.0, 'rgb(5,48,97)']],\n",
       "              'type': 'heatmap',\n",
       "              'uid': 'cf661982-6796-4e3f-a352-885dcd8229cb',\n",
       "              'z': array([[0., 0., 0., ..., 0., 0., 0.],\n",
       "                          [0., 0., 0., ..., 0., 0., 0.],\n",
       "                          [0., 0., 0., ..., 0., 0., 0.],\n",
       "                          ...,\n",
       "                          [0., 0., 0., ..., 0., 0., 0.],\n",
       "                          [0., 0., 0., ..., 0., 0., 0.],\n",
       "                          [0., 0., 0., ..., 0., 0., 0.]], dtype=float32),\n",
       "              'zmax': 1.0,\n",
       "              'zmid': 0,\n",
       "              'zmin': -1.0}],\n",
       "    'layout': {'height': 500,\n",
       "               'template': '...',\n",
       "               'title': {'text': 'block1.conv_in0'},\n",
       "               'width': 500,\n",
       "               'xaxis': {'side': 'top'},\n",
       "               'yaxis': {'autorange': 'reversed'}}\n",
       "})"
      ]
     },
     "metadata": {},
     "output_type": "display_data"
    },
    {
     "data": {
      "application/vnd.jupyter.widget-view+json": {
       "model_id": "9264eed224964c6282a1e97f27939b6b",
       "version_major": 2,
       "version_minor": 0
      },
      "text/plain": [
       "VBox(children=(Dropdown(description='Layers', options=('block1.conv_in0', 'block1.conv_out', 'block1.maxpool_o…"
      ]
     },
     "metadata": {},
     "output_type": "display_data"
    },
    {
     "data": {
      "application/vnd.jupyter.widget-view+json": {
       "model_id": "4d0ef83e5cac4877acc66ef5003c10a9",
       "version_major": 2,
       "version_minor": 0
      },
      "text/plain": [
       "HBox(children=(Text(value='', layout=Layout(width='150px'), placeholder='Custom filename'), Button(description…"
      ]
     },
     "metadata": {},
     "output_type": "display_data"
    }
   ],
   "source": [
    "# Instantiate the plotter\n",
    "nonzero_plotter = ActivationsPlotter(labels, plotter=plot_nonzero_diffs, activ_gen=activ_gen_px, hook=hook, coords_enabled=True, color=\"R\", pair=True)\n",
    "nonzero_plotter.display()"
   ]
  },
  {
   "attachments": {},
   "cell_type": "markdown",
   "metadata": {},
   "source": [
    "# 1: Locality\n",
    "Consider `n` convolutional layers (3x3 kernel, stride=1, padding=1) which each preserve the height col width of the previous feature maps. The above demonstrates that after these layers, information can only propagate `n` L1 pixels. The network itself is composed of # TODO "
   ]
  },
  {
   "attachments": {},
   "cell_type": "markdown",
   "metadata": {},
   "source": [
    "# Visualizing actual observation activations"
   ]
  },
  {
   "cell_type": "code",
   "execution_count": 10,
   "metadata": {},
   "outputs": [],
   "source": [
    "default_settings = {'channel_slider': 55, 'label_widget': 'block2.res1.resadd_out'}"
   ]
  },
  {
   "cell_type": "code",
   "execution_count": 11,
   "metadata": {},
   "outputs": [
    {
     "data": {
      "application/vnd.jupyter.widget-view+json": {
       "model_id": "24b0610db06f41aebaa4c40deb246375",
       "version_major": 2,
       "version_minor": 0
      },
      "text/plain": [
       "Box(children=(HBox(children=(GridspecLayout(children=(Button(layout=Layout(grid_area='widget001', height='0px'…"
      ]
     },
     "metadata": {},
     "output_type": "display_data"
    },
    {
     "data": {
      "application/vnd.jupyter.widget-view+json": {
       "model_id": "e7aa6c1f6de24adeacd860b9646e5cd2",
       "version_major": 2,
       "version_minor": 0
      },
      "text/plain": [
       "FigureWidget({\n",
       "    'data': [{'colorscale': [[0.0, 'rgb(103,0,31)'], [0.1, 'rgb(178,24,43)'],\n",
       "                             [0.2, 'rgb(214,96,77)'], [0.3, 'rgb(244,165,130)'],\n",
       "                             [0.4, 'rgb(253,219,199)'], [0.5, 'rgb(247,247,247)'],\n",
       "                             [0.6, 'rgb(209,229,240)'], [0.7, 'rgb(146,197,222)'],\n",
       "                             [0.8, 'rgb(67,147,195)'], [0.9, 'rgb(33,102,172)'],\n",
       "                             [1.0, 'rgb(5,48,97)']],\n",
       "              'type': 'heatmap',\n",
       "              'uid': 'a28729ba-515a-4ae3-aa3c-d972c8266673',\n",
       "              'z': array([[ 0.02657262, -0.02839196, -0.07337212, ..., -0.04367238, -0.02377848,\n",
       "                           -0.01424359],\n",
       "                          [-0.00080798, -0.16589725, -0.19343746, ..., -0.17971103, -0.13789423,\n",
       "                           -0.08407792],\n",
       "                          [-0.06065782, -0.2514051 , -0.23488975, ..., -0.22294307, -0.20125811,\n",
       "                           -0.19534574],\n",
       "                          ...,\n",
       "                          [-0.05962539, -0.25053102, -0.2337972 , ..., -0.21868195, -0.20411755,\n",
       "                           -0.20397769],\n",
       "                          [-0.05711482, -0.23446661, -0.2250682 , ..., -0.21692891, -0.2030316 ,\n",
       "                           -0.20786336],\n",
       "                          [-0.08851513, -0.23334745, -0.24487017, ..., -0.24201   , -0.22992903,\n",
       "                           -0.04521213]], dtype=float32),\n",
       "              'zmax': 0.9982452,\n",
       "              'zmid': 0,\n",
       "              'zmin': -0.9982451796531677}],\n",
       "    'layout': {'height': 500,\n",
       "               'template': '...',\n",
       "               'title': {'text': 'block2.res1.resadd_out'},\n",
       "               'width': 500,\n",
       "               'xaxis': {'side': 'top'},\n",
       "               'yaxis': {'autorange': 'reversed'}}\n",
       "})"
      ]
     },
     "metadata": {},
     "output_type": "display_data"
    },
    {
     "data": {
      "application/vnd.jupyter.widget-view+json": {
       "model_id": "5eb410cf0b00426390ce103106c05a8a",
       "version_major": 2,
       "version_minor": 0
      },
      "text/plain": [
       "VBox(children=(Dropdown(description='Layers', index=19, options=('block1.conv_in0', 'block1.conv_out', 'block1…"
      ]
     },
     "metadata": {},
     "output_type": "display_data"
    },
    {
     "data": {
      "application/vnd.jupyter.widget-view+json": {
       "model_id": "61d307f4ca864375ac49661ee60b6392",
       "version_major": 2,
       "version_minor": 0
      },
      "text/plain": [
       "HBox(children=(Text(value='', layout=Layout(width='150px'), placeholder='Custom filename'), Button(description…"
      ]
     },
     "metadata": {},
     "output_type": "display_data"
    }
   ],
   "source": [
    "# Show a maze editor side-by-side with the interactive plotter\n",
    "SEED = 11\n",
    "venv = create_venv(num=1, start_level=SEED, num_levels=1) # This has to be a single maze, otherwise the vfield wont work\n",
    "custom_maze_plotter = ActivationsPlotter(labels, lambda activations, fig: plot_activations(activations[0], fig=fig), values_from_venv, hook, defaults=default_settings, venv=venv)\n",
    "\n",
    "widget_box = custom_vfield(policy, venv=venv, callback=custom_maze_plotter.update_plotter, show_components=True) \n",
    "display(widget_box)\n",
    "    \n",
    "custom_maze_plotter.display() \n",
    "# TODO make it so that it's easy to attach notes to files, load  "
   ]
  },
  {
   "attachments": {},
   "cell_type": "markdown",
   "metadata": {},
   "source": [
    "# Examine activations with attribution maps\n",
    "\n",
    "\n",
    "[Integrated gradients](https://arxiv.org/abs/1802.03788) is an attribution method which works by approximating the following integral, where $F : \\mathbb{R}^n \\rightarrow \\mathbb{R}$ is the network, $x$ is the input, $x'$ is the baseline, and $i$ is the feature.\n",
    "\n",
    "$$\n",
    "\\mathrm{IntegratedGradients}_i(x) = (x_i - x_i') \\times \\int_{\\alpha=0}^1 \\frac{\\partial F(x' + \\alpha (x - x'))}{\\partial x_i} d\\alpha\n",
    "$$\n",
    "\n",
    "[Intuitively](https://www.tensorflow.org/tutorials/interpretability/integrated_gradients) we're accumulating all the change in output from changing $x'$ to $x$ along the linear path $\\alpha x' + (1 - \\alpha) x$. For a concrete example in words, let $x_i$ be the weight of a heavy exotic frog, $x_i'$ be the average weight over all frogs, $F(x)$ be the estimated jump height of a frog with all the features $x$ (one of which is weight). Given this, the equation above can be interpreted as\n",
    "\n",
    "$$\n",
    "\\text{Weight gain of exotic frog} \\times \\text{Average rate jump height changes per unit weight gain} = \\text{Jump height change of exotic frog \\textbf{due to weight gain}}\n",
    "$$\n",
    "\n",
    "In other words, the integrated gradients vector is the vector of the change in output **due** to the change in each input feature.\n",
    "\n",
    "As an implementation detail, we currently use $x' = \\mathbf{0}$ as a baseline, though we'll be changing this soon.\n",
    "\n",
    "For the interface, <span style=\"color:blue;\">Blue</span> is the activation, brighter for positive, darker for negative. <span style=\"color:red;\">Red</span> is the attribution, brighter for positive, darker for negative.\n"
   ]
  },
  {
   "cell_type": "code",
   "execution_count": 12,
   "metadata": {},
   "outputs": [],
   "source": [
    "from torch.distributions import Categorical\n",
    "from captum.attr import IntegratedGradients\n",
    "\n",
    "class WrappedModel(t.nn.Module):\n",
    "    def __init__(self, hook: cmh.ModuleHook):\n",
    "        super().__init__()\n",
    "        assert isinstance(hook, cmh.ModuleHook), \"Hook must be a ModuleHook\"\n",
    "\n",
    "        self.hook = hook\n",
    "\n",
    "    def forward(self, labelled_activation: t.Tensor, obs: t.Tensor, label: str):\n",
    "        assert isinstance(obs, t.Tensor) and obs.dtype == t.float32, \"Obs must be a tensor of dtype float32\"\n",
    "        assert isinstance(labelled_activation, t.Tensor) and labelled_activation.dtype == t.float32, \"Labelled activation must be a tensor of dtype float32\"\n",
    "\n",
    "        # could be faster cached but I'm not taking chances with hook reuse bugs\n",
    "        mask = t.tensor(True) # mask all the things\n",
    "        patches = {label: cmh.PatchDef(value=labelled_activation, mask=mask)}\n",
    "        with self.hook.set_hook_should_get_custom_data(), self.hook.use_patches(patches):\n",
    "            c, _ = self.hook.network(obs)\n",
    "\n",
    "        # return probs\n",
    "        return t.stack([c.probs[..., np.array(act_indexes)].sum(-1) for _, act_indexes in models.MAZE_ACTION_INDICES.items()], dim=-1)\n",
    "\n",
    "\n",
    "model = WrappedModel(hook)\n",
    "ig = IntegratedGradients(model)"
   ]
  },
  {
   "cell_type": "code",
   "execution_count": 13,
   "metadata": {},
   "outputs": [
    {
     "data": {
      "application/vnd.jupyter.widget-view+json": {
       "model_id": "39a8fdffcc164a299c41853e98e8d058",
       "version_major": 2,
       "version_minor": 0
      },
      "text/plain": [
       "interactive(children=(Dropdown(description='Target: ', index=3, options=('LEFT', 'DOWN', 'UP', 'RIGHT', 'NOOP'…"
      ]
     },
     "metadata": {},
     "output_type": "display_data"
    },
    {
     "data": {
      "application/vnd.jupyter.widget-view+json": {
       "model_id": "37348bde5ae24bb084400908e6fb13ce",
       "version_major": 2,
       "version_minor": 0
      },
      "text/plain": [
       "Box(children=(HBox(children=(GridspecLayout(children=(Button(layout=Layout(grid_area='widget001', height='0px'…"
      ]
     },
     "metadata": {},
     "output_type": "display_data"
    }
   ],
   "source": [
    "targets = {k: i for i, k in enumerate(models.MAZE_ACTION_INDICES.keys())}\n",
    "venv = maze.create_venv(1,0,1)\n",
    "\n",
    "def viz_attr(target: str, layer_name: str, alpha: float, std_clip_low: float, std_clip_high: float, channel: int = 0, update_counter: int = 0):\n",
    "    obs = t.tensor(venv.reset(), dtype=t.float32, requires_grad=True)\n",
    "    # TODO: Baseline/counterfactual for IG, defaults is zero and is not ideal.\n",
    "    with hook.set_hook_should_get_custom_data():\n",
    "        hook.network(obs)\n",
    "        activ = hook.get_value_by_label(layer_name, convert=False)\n",
    "\n",
    "    attr, delta = ig.attribute(activ, target=targets[target], return_convergence_delta=True, additional_forward_args=(obs, layer_name))\n",
    "    attr = attr.detach().numpy()\n",
    "\n",
    "    # Convert to numpy float image format; gaussian normalize to [0,1]\n",
    "    activ_im = activ[0].detach().numpy()[channel]\n",
    "    activ_im = (activ_im - activ_im.min()) / (activ_im.max() - activ_im.min())\n",
    "\n",
    "    attr_im = attr[0][channel]\n",
    "\n",
    "    # clip outliers\n",
    "    mean, std = attr_im.mean(), attr_im.std()\n",
    "    attr_im = np.clip(attr_im, mean - std_clip_low*std, mean + std_clip_high*std)\n",
    "    # normalize for display\n",
    "    attr_im = (attr_im - attr_im.min())\n",
    "    if (attr_im.max() - attr_im.min()) != 0:\n",
    "        attr_im /= (attr_im.max() - attr_im.min())\n",
    "    else:\n",
    "        print(\"WARNING: attribution failed, image is constant zeros. try a different channel?\")\n",
    "\n",
    "    # TODO: Maybe this should be log scale since model outputs probabilities? maybe model should output log probs?\n",
    "    # hard to interpret.\n",
    "\n",
    "    # alternative (non rgb) overlay\n",
    "    # overlay_im = alpha * attr_im + (1-alpha) * activ_im\n",
    "    # rb overlay\n",
    "    green = np.zeros_like(attr_im)\n",
    "    overlay_im = np.stack([alpha*attr_im, green, (1-alpha)*activ_im], axis=2)\n",
    "\n",
    "    plt.imshow(overlay_im)\n",
    "\n",
    "\n",
    "update_counter_widget = widgets.fixed(0) # CURSED\n",
    "\n",
    "interact(\n",
    "    viz_attr,\n",
    "    target=widgets.Dropdown(options=list(targets.keys()), value='RIGHT', description='Target: '),\n",
    "    layer_name=widgets.Dropdown(options=labels, value=labels[4], description='Label: '),\n",
    "    alpha=widgets.FloatSlider(min=0, max=1, step=0.1, value=0.5),\n",
    "    std_clip_low=widgets.FloatSlider(min=0, max=10, step=0.5, value=3), # NOTE: Feel free to make default settings better\n",
    "    std_clip_high=widgets.FloatSlider(min=0, max=10, step=0.5, value=5),\n",
    "    channel=widgets.IntSlider(min=0, max=128, step=1, value=0),\n",
    "    update_counter=update_counter_widget,\n",
    ");\n",
    "\n",
    "widget_box = custom_vfield(policy, venv=venv, seed=SEED, callback=lambda _: update_counter_widget.set_trait('value', update_counter_widget.value + 1))\n",
    "display(widget_box)\n"
   ]
  }
 ],
 "metadata": {
  "kernelspec": {
   "display_name": "MATS",
   "language": "python",
   "name": "python3"
  },
  "language_info": {
   "codemirror_mode": {
    "name": "ipython",
    "version": 3
   },
   "file_extension": ".py",
   "mimetype": "text/x-python",
   "name": "python",
   "nbconvert_exporter": "python",
   "pygments_lexer": "ipython3",
   "version": "3.7.16"
  },
  "orig_nbformat": 4,
  "vscode": {
   "interpreter": {
    "hash": "4c77f2f46953a93e2cdf30c808e94602375d16ad6294e549473c1f301bc8b554"
   }
  }
 },
 "nbformat": 4,
 "nbformat_minor": 2
}
